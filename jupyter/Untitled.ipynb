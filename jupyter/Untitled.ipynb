{
 "cells": [
  {
   "cell_type": "code",
   "execution_count": 1,
   "metadata": {},
   "outputs": [
    {
     "name": "stderr",
     "output_type": "stream",
     "text": [
      "2018-04-17 23:51:27,739 - root - INFO - __init__ : 148 - /tmp/greenseer exists\n",
      "2018-04-17 23:51:27,741 - root - INFO - china_stock : 29 - local source type is <class 'greenseer.repository.FolderSource'>\n",
      "2018-04-17 23:51:27,742 - root - INFO - china_stock : 30 - remote source type is get_h_data\n",
      "2018-04-17 23:51:27,743 - root - ERROR - __init__ : 170 - 600096 not exists in local\n",
      "2018-04-17 23:51:27,749 - root - INFO - china_stock : 46 - 600096 is dirty or empty, local data will be refresh\n",
      "2018-04-17 23:51:36,605 - root - INFO - china_stock : 82 - start to date: 1997-07-09 00:00:00\n",
      "2018-04-17 23:51:36,606 - root - DEBUG - china_stock : 34 - generate sleep 15 seconds\n",
      "2018-04-17 23:51:51,610 - root - INFO - china_stock : 39 - generate remote fetch 390 days\n"
     ]
    },
    {
     "name": "stdout",
     "output_type": "stream",
     "text": [
      "[Getting data:]####"
     ]
    },
    {
     "name": "stderr",
     "output_type": "stream",
     "text": [
      "2018-04-17 23:51:59,190 - root - INFO - china_stock : 104 - load prices,records size(262, 6)\n",
      "2018-04-17 23:51:59,192 - root - INFO - china_stock : 107 - load prices:from 1997-07-09 00:00:00 to 1998-08-03 00:00:00,records:(262, 6)\n",
      "2018-04-17 23:51:59,194 - root - DEBUG - china_stock : 34 - generate sleep 28 seconds\n",
      "2018-04-17 23:52:27,221 - root - INFO - china_stock : 39 - generate remote fetch 383 days\n"
     ]
    },
    {
     "name": "stdout",
     "output_type": "stream",
     "text": [
      "[Getting data:]####"
     ]
    },
    {
     "name": "stderr",
     "output_type": "stream",
     "text": [
      "2018-04-17 23:52:36,191 - root - INFO - china_stock : 104 - load prices,records size(256, 6)\n",
      "2018-04-17 23:52:36,193 - root - INFO - china_stock : 107 - load prices:from 1998-08-04 00:00:00 to 1999-08-22 00:00:00,records:(256, 6)\n",
      "2018-04-17 23:52:36,194 - root - DEBUG - china_stock : 34 - generate sleep 25 seconds\n",
      "2018-04-17 23:53:01,218 - root - INFO - china_stock : 39 - generate remote fetch 377 days\n"
     ]
    },
    {
     "name": "stdout",
     "output_type": "stream",
     "text": [
      "[Getting data:]####"
     ]
    },
    {
     "name": "stderr",
     "output_type": "stream",
     "text": [
      "2018-04-17 23:53:04,950 - root - INFO - china_stock : 104 - load prices,records size(245, 6)\n",
      "2018-04-17 23:53:04,951 - root - INFO - china_stock : 107 - load prices:from 1999-08-23 00:00:00 to 2000-09-03 00:00:00,records:(245, 6)\n",
      "2018-04-17 23:53:04,952 - root - DEBUG - china_stock : 34 - generate sleep 15 seconds\n",
      "2018-04-17 23:53:19,969 - root - INFO - china_stock : 39 - generate remote fetch 388 days\n"
     ]
    },
    {
     "name": "stdout",
     "output_type": "stream",
     "text": [
      "[Getting data:]####"
     ]
    },
    {
     "name": "stderr",
     "output_type": "stream",
     "text": [
      "2018-04-17 23:53:24,571 - root - INFO - china_stock : 104 - load prices,records size(256, 6)\n",
      "2018-04-17 23:53:24,573 - root - INFO - china_stock : 107 - load prices:from 2000-09-04 00:00:00 to 2001-09-27 00:00:00,records:(256, 6)\n",
      "2018-04-17 23:53:24,575 - root - DEBUG - china_stock : 34 - generate sleep 27 seconds\n",
      "2018-04-17 23:53:51,594 - root - INFO - china_stock : 39 - generate remote fetch 393 days\n"
     ]
    },
    {
     "name": "stdout",
     "output_type": "stream",
     "text": [
      "[Getting data:]#####"
     ]
    },
    {
     "name": "stderr",
     "output_type": "stream",
     "text": [
      "2018-04-17 23:53:56,789 - root - INFO - china_stock : 104 - load prices,records size(249, 6)\n",
      "2018-04-17 23:53:56,790 - root - INFO - china_stock : 107 - load prices:from 2001-09-28 00:00:00 to 2002-10-26 00:00:00,records:(249, 6)\n",
      "2018-04-17 23:53:56,791 - root - DEBUG - china_stock : 34 - generate sleep 30 seconds\n",
      "2018-04-17 23:54:26,796 - root - INFO - china_stock : 39 - generate remote fetch 373 days\n"
     ]
    },
    {
     "name": "stdout",
     "output_type": "stream",
     "text": [
      "[Getting data:]####"
     ]
    },
    {
     "name": "stderr",
     "output_type": "stream",
     "text": [
      "2018-04-17 23:54:34,953 - root - INFO - china_stock : 104 - load prices,records size(246, 6)\n",
      "2018-04-17 23:54:34,955 - root - INFO - china_stock : 107 - load prices:from 2002-10-27 00:00:00 to 2003-11-04 00:00:00,records:(246, 6)\n",
      "2018-04-17 23:54:34,956 - root - DEBUG - china_stock : 34 - generate sleep 18 seconds\n",
      "2018-04-17 23:54:52,962 - root - INFO - china_stock : 39 - generate remote fetch 382 days\n"
     ]
    },
    {
     "name": "stdout",
     "output_type": "stream",
     "text": [
      "[Getting data:]####"
     ]
    },
    {
     "name": "stderr",
     "output_type": "stream",
     "text": [
      "2018-04-17 23:54:58,263 - root - INFO - china_stock : 104 - load prices,records size(252, 6)\n",
      "2018-04-17 23:54:58,264 - root - INFO - china_stock : 107 - load prices:from 2003-11-05 00:00:00 to 2004-11-21 00:00:00,records:(252, 6)\n",
      "2018-04-17 23:54:58,265 - root - DEBUG - china_stock : 34 - generate sleep 26 seconds\n",
      "2018-04-17 23:55:24,292 - root - INFO - china_stock : 39 - generate remote fetch 394 days\n"
     ]
    },
    {
     "name": "stdout",
     "output_type": "stream",
     "text": [
      "[Getting data:]####"
     ]
    },
    {
     "name": "stderr",
     "output_type": "stream",
     "text": [
      "2018-04-17 23:55:28,881 - root - INFO - china_stock : 104 - load prices,records size(264, 6)\n",
      "2018-04-17 23:55:28,882 - root - INFO - china_stock : 107 - load prices:from 2004-11-22 00:00:00 to 2005-12-21 00:00:00,records:(264, 6)\n",
      "2018-04-17 23:55:28,883 - root - DEBUG - china_stock : 34 - generate sleep 25 seconds\n",
      "2018-04-17 23:55:53,901 - root - INFO - china_stock : 39 - generate remote fetch 377 days\n"
     ]
    },
    {
     "name": "stdout",
     "output_type": "stream",
     "text": [
      "[Getting data:]timed out\n",
      "<urlopen error [Errno -3] Temporary failure in name resolution>\n"
     ]
    },
    {
     "name": "stderr",
     "output_type": "stream",
     "text": [
      "2018-04-17 23:56:44,122 - root - ERROR - china_stock : 112 - has been blocked,will sleep 3 minutes\n"
     ]
    },
    {
     "name": "stdout",
     "output_type": "stream",
     "text": [
      "<urlopen error [Errno -3] Temporary failure in name resolution>\n"
     ]
    },
    {
     "name": "stderr",
     "output_type": "stream",
     "text": [
      "2018-04-17 23:59:44,199 - root - ERROR - china_stock : 115 - finish sleep\n",
      "2018-04-17 23:59:44,202 - root - INFO - china_stock : 95 - last call has been blocked, try again\n"
     ]
    },
    {
     "name": "stdout",
     "output_type": "stream",
     "text": [
      "[Getting data:]#####"
     ]
    },
    {
     "name": "stderr",
     "output_type": "stream",
     "text": [
      "2018-04-17 23:59:47,924 - root - INFO - china_stock : 104 - load prices,records size(224, 6)\n",
      "2018-04-17 23:59:47,926 - root - INFO - china_stock : 107 - load prices:from 2005-12-22 00:00:00 to 2007-01-03 00:00:00,records:(224, 6)\n",
      "2018-04-17 23:59:47,929 - root - DEBUG - china_stock : 34 - generate sleep 29 seconds\n",
      "2018-04-18 00:00:16,957 - root - INFO - china_stock : 39 - generate remote fetch 389 days\n"
     ]
    },
    {
     "name": "stdout",
     "output_type": "stream",
     "text": [
      "[Getting data:]####"
     ]
    },
    {
     "name": "stderr",
     "output_type": "stream",
     "text": [
      "2018-04-18 00:00:22,511 - root - INFO - china_stock : 104 - load prices,records size(250, 6)\n",
      "2018-04-18 00:00:22,514 - root - INFO - china_stock : 107 - load prices:from 2007-01-04 00:00:00 to 2008-01-28 00:00:00,records:(250, 6)\n",
      "2018-04-18 00:00:22,516 - root - DEBUG - china_stock : 34 - generate sleep 18 seconds\n",
      "2018-04-18 00:00:40,532 - root - INFO - china_stock : 39 - generate remote fetch 372 days\n"
     ]
    },
    {
     "name": "stdout",
     "output_type": "stream",
     "text": [
      "[Getting data:]####"
     ]
    },
    {
     "name": "stderr",
     "output_type": "stream",
     "text": [
      "2018-04-18 00:00:45,935 - root - INFO - china_stock : 104 - load prices,records size(89, 6)\n",
      "2018-04-18 00:00:45,936 - root - INFO - china_stock : 107 - load prices:from 2008-01-29 00:00:00 to 2009-02-04 00:00:00,records:(89, 6)\n",
      "2018-04-18 00:00:45,937 - root - DEBUG - china_stock : 34 - generate sleep 28 seconds\n",
      "2018-04-18 00:01:13,965 - root - INFO - china_stock : 39 - generate remote fetch 391 days\n"
     ]
    },
    {
     "name": "stdout",
     "output_type": "stream",
     "text": [
      "[Getting data:]####"
     ]
    },
    {
     "name": "stderr",
     "output_type": "stream",
     "text": [
      "2018-04-18 00:01:21,600 - root - INFO - china_stock : 104 - load prices,records size(262, 6)\n",
      "2018-04-18 00:01:21,601 - root - INFO - china_stock : 107 - load prices:from 2009-02-05 00:00:00 to 2010-03-03 00:00:00,records:(262, 6)\n",
      "2018-04-18 00:01:21,602 - root - DEBUG - china_stock : 34 - generate sleep 17 seconds\n",
      "2018-04-18 00:01:38,619 - root - INFO - china_stock : 39 - generate remote fetch 371 days\n"
     ]
    },
    {
     "name": "stdout",
     "output_type": "stream",
     "text": [
      "[Getting data:]####"
     ]
    },
    {
     "name": "stderr",
     "output_type": "stream",
     "text": [
      "2018-04-18 00:01:45,204 - root - INFO - china_stock : 104 - load prices,records size(245, 6)\n",
      "2018-04-18 00:01:45,206 - root - INFO - china_stock : 107 - load prices:from 2010-03-04 00:00:00 to 2011-03-10 00:00:00,records:(245, 6)\n",
      "2018-04-18 00:01:45,208 - root - DEBUG - china_stock : 34 - generate sleep 28 seconds\n",
      "2018-04-18 00:02:13,225 - root - INFO - china_stock : 39 - generate remote fetch 391 days\n"
     ]
    },
    {
     "name": "stdout",
     "output_type": "stream",
     "text": [
      "[Getting data:]#####"
     ]
    },
    {
     "name": "stderr",
     "output_type": "stream",
     "text": [
      "2018-04-18 00:02:18,227 - root - INFO - china_stock : 104 - load prices,records size(220, 6)\n",
      "2018-04-18 00:02:18,229 - root - INFO - china_stock : 107 - load prices:from 2011-03-11 00:00:00 to 2012-04-05 00:00:00,records:(220, 6)\n",
      "2018-04-18 00:02:18,230 - root - DEBUG - china_stock : 34 - generate sleep 13 seconds\n",
      "2018-04-18 00:02:31,237 - root - INFO - china_stock : 39 - generate remote fetch 378 days\n"
     ]
    },
    {
     "name": "stdout",
     "output_type": "stream",
     "text": [
      "[Getting data:]####"
     ]
    },
    {
     "name": "stderr",
     "output_type": "stream",
     "text": [
      "2018-04-18 00:02:41,521 - root - INFO - china_stock : 104 - load prices,records size(203, 6)\n",
      "2018-04-18 00:02:41,522 - root - INFO - china_stock : 107 - load prices:from 2012-04-06 00:00:00 to 2013-04-19 00:00:00,records:(203, 6)\n",
      "2018-04-18 00:02:41,523 - root - DEBUG - china_stock : 34 - generate sleep 25 seconds\n",
      "2018-04-18 00:03:06,545 - root - INFO - china_stock : 39 - generate remote fetch 396 days\n"
     ]
    },
    {
     "name": "stdout",
     "output_type": "stream",
     "text": [
      "[Getting data:]####"
     ]
    },
    {
     "name": "stderr",
     "output_type": "stream",
     "text": [
      "2018-04-18 00:03:10,807 - root - INFO - china_stock : 104 - load prices,records size(245, 6)\n",
      "2018-04-18 00:03:10,809 - root - INFO - china_stock : 107 - load prices:from 2013-04-20 00:00:00 to 2014-05-21 00:00:00,records:(245, 6)\n",
      "2018-04-18 00:03:10,810 - root - DEBUG - china_stock : 34 - generate sleep 13 seconds\n",
      "2018-04-18 00:03:23,819 - root - INFO - china_stock : 39 - generate remote fetch 391 days\n"
     ]
    },
    {
     "name": "stdout",
     "output_type": "stream",
     "text": [
      "[Getting data:]####"
     ]
    },
    {
     "name": "stderr",
     "output_type": "stream",
     "text": [
      "2018-04-18 00:03:27,637 - root - INFO - china_stock : 104 - load prices,records size(249, 6)\n",
      "2018-04-18 00:03:27,638 - root - INFO - china_stock : 107 - load prices:from 2014-05-22 00:00:00 to 2015-06-17 00:00:00,records:(249, 6)\n",
      "2018-04-18 00:03:27,639 - root - DEBUG - china_stock : 34 - generate sleep 17 seconds\n",
      "2018-04-18 00:03:44,657 - root - INFO - china_stock : 39 - generate remote fetch 388 days\n"
     ]
    },
    {
     "name": "stdout",
     "output_type": "stream",
     "text": [
      "[Getting data:]#####"
     ]
    },
    {
     "name": "stderr",
     "output_type": "stream",
     "text": [
      "2018-04-18 00:03:50,193 - root - INFO - china_stock : 104 - load prices,records size(259, 6)\n",
      "2018-04-18 00:03:50,194 - root - INFO - china_stock : 107 - load prices:from 2015-06-18 00:00:00 to 2016-07-10 00:00:00,records:(259, 6)\n",
      "2018-04-18 00:03:50,195 - root - DEBUG - china_stock : 34 - generate sleep 13 seconds\n",
      "2018-04-18 00:04:03,210 - root - INFO - china_stock : 39 - generate remote fetch 382 days\n"
     ]
    },
    {
     "name": "stdout",
     "output_type": "stream",
     "text": [
      "[Getting data:]####"
     ]
    },
    {
     "name": "stderr",
     "output_type": "stream",
     "text": [
      "2018-04-18 00:04:06,170 - root - INFO - china_stock : 104 - load prices,records size(257, 6)\n",
      "2018-04-18 00:04:06,171 - root - INFO - china_stock : 107 - load prices:from 2016-07-11 00:00:00 to 2017-07-28 00:00:00,records:(257, 6)\n",
      "2018-04-18 00:04:06,172 - root - DEBUG - china_stock : 34 - generate sleep 29 seconds\n",
      "2018-04-18 00:04:35,201 - root - INFO - china_stock : 39 - generate remote fetch 384 days\n"
     ]
    },
    {
     "name": "stdout",
     "output_type": "stream",
     "text": [
      "[Getting data:]HTTP Error 456: \n",
      "HTTP Error 456: \n"
     ]
    },
    {
     "name": "stderr",
     "output_type": "stream",
     "text": [
      "2018-04-18 00:04:35,679 - root - ERROR - china_stock : 112 - has been blocked,will sleep 3 minutes\n"
     ]
    },
    {
     "name": "stdout",
     "output_type": "stream",
     "text": [
      "HTTP Error 456: \n"
     ]
    },
    {
     "name": "stderr",
     "output_type": "stream",
     "text": [
      "2018-04-18 00:07:35,775 - root - ERROR - china_stock : 115 - finish sleep\n",
      "2018-04-18 00:07:35,778 - root - INFO - china_stock : 95 - last call has been blocked, try again\n"
     ]
    },
    {
     "name": "stdout",
     "output_type": "stream",
     "text": [
      "[Getting data:]HTTP Error 456: \n"
     ]
    },
    {
     "name": "stderr",
     "output_type": "stream",
     "text": [
      "2018-04-18 00:07:36,113 - root - ERROR - china_stock : 112 - has been blocked,will sleep 3 minutes\n"
     ]
    },
    {
     "name": "stdout",
     "output_type": "stream",
     "text": [
      "HTTP Error 456: \n",
      "HTTP Error 456: \n"
     ]
    },
    {
     "name": "stderr",
     "output_type": "stream",
     "text": [
      "2018-04-18 00:10:36,202 - root - ERROR - china_stock : 115 - finish sleep\n",
      "2018-04-18 00:10:36,206 - root - INFO - china_stock : 95 - last call has been blocked, try again\n"
     ]
    },
    {
     "name": "stdout",
     "output_type": "stream",
     "text": [
      "[Getting data:]###"
     ]
    },
    {
     "name": "stderr",
     "output_type": "stream",
     "text": [
      "2018-04-18 00:10:43,990 - root - INFO - china_stock : 104 - load prices,records size(172, 6)\n",
      "2018-04-18 00:10:43,991 - root - INFO - china_stock : 107 - load prices:from 2017-07-29 00:00:00 to 2018-04-17 23:51:36.605350,records:(172, 6)\n",
      "2018-04-18 00:10:43,992 - root - DEBUG - china_stock : 34 - generate sleep 23 seconds\n",
      "2018-04-18 00:11:07,013 - root - INFO - china_stock : 118 - finish fetch stock prices: 600096\n"
     ]
    },
    {
     "data": {
      "text/html": [
       "<div>\n",
       "<style>\n",
       "    .dataframe thead tr:only-child th {\n",
       "        text-align: right;\n",
       "    }\n",
       "\n",
       "    .dataframe thead th {\n",
       "        text-align: left;\n",
       "    }\n",
       "\n",
       "    .dataframe tbody tr th {\n",
       "        vertical-align: top;\n",
       "    }\n",
       "</style>\n",
       "<table border=\"1\" class=\"dataframe\">\n",
       "  <thead>\n",
       "    <tr style=\"text-align: right;\">\n",
       "      <th></th>\n",
       "      <th>open</th>\n",
       "      <th>high</th>\n",
       "      <th>close</th>\n",
       "      <th>low</th>\n",
       "      <th>volume</th>\n",
       "      <th>amount</th>\n",
       "    </tr>\n",
       "    <tr>\n",
       "      <th>date</th>\n",
       "      <th></th>\n",
       "      <th></th>\n",
       "      <th></th>\n",
       "      <th></th>\n",
       "      <th></th>\n",
       "      <th></th>\n",
       "    </tr>\n",
       "  </thead>\n",
       "  <tbody>\n",
       "    <tr>\n",
       "      <th>1998-08-03</th>\n",
       "      <td>7.68</td>\n",
       "      <td>7.79</td>\n",
       "      <td>7.57</td>\n",
       "      <td>7.47</td>\n",
       "      <td>2008400.0</td>\n",
       "      <td>22278046.0</td>\n",
       "    </tr>\n",
       "    <tr>\n",
       "      <th>1998-07-31</th>\n",
       "      <td>7.84</td>\n",
       "      <td>7.84</td>\n",
       "      <td>7.68</td>\n",
       "      <td>7.68</td>\n",
       "      <td>1347500.0</td>\n",
       "      <td>15118555.0</td>\n",
       "    </tr>\n",
       "    <tr>\n",
       "      <th>1998-07-30</th>\n",
       "      <td>7.81</td>\n",
       "      <td>7.87</td>\n",
       "      <td>7.85</td>\n",
       "      <td>7.68</td>\n",
       "      <td>1887100.0</td>\n",
       "      <td>21222855.0</td>\n",
       "    </tr>\n",
       "    <tr>\n",
       "      <th>1998-07-29</th>\n",
       "      <td>7.99</td>\n",
       "      <td>8.09</td>\n",
       "      <td>7.79</td>\n",
       "      <td>7.61</td>\n",
       "      <td>2389200.0</td>\n",
       "      <td>27297182.0</td>\n",
       "    </tr>\n",
       "    <tr>\n",
       "      <th>1998-07-28</th>\n",
       "      <td>7.81</td>\n",
       "      <td>8.04</td>\n",
       "      <td>7.99</td>\n",
       "      <td>7.81</td>\n",
       "      <td>3480400.0</td>\n",
       "      <td>40184568.0</td>\n",
       "    </tr>\n",
       "    <tr>\n",
       "      <th>1998-07-27</th>\n",
       "      <td>7.74</td>\n",
       "      <td>7.88</td>\n",
       "      <td>7.81</td>\n",
       "      <td>7.66</td>\n",
       "      <td>2034400.0</td>\n",
       "      <td>22954582.0</td>\n",
       "    </tr>\n",
       "    <tr>\n",
       "      <th>1998-07-24</th>\n",
       "      <td>7.83</td>\n",
       "      <td>7.88</td>\n",
       "      <td>7.71</td>\n",
       "      <td>7.64</td>\n",
       "      <td>3637400.0</td>\n",
       "      <td>41193135.0</td>\n",
       "    </tr>\n",
       "    <tr>\n",
       "      <th>1998-07-23</th>\n",
       "      <td>7.32</td>\n",
       "      <td>7.82</td>\n",
       "      <td>7.79</td>\n",
       "      <td>7.32</td>\n",
       "      <td>2023100.0</td>\n",
       "      <td>22276975.0</td>\n",
       "    </tr>\n",
       "    <tr>\n",
       "      <th>1998-07-22</th>\n",
       "      <td>7.48</td>\n",
       "      <td>7.48</td>\n",
       "      <td>7.33</td>\n",
       "      <td>7.28</td>\n",
       "      <td>830600.0</td>\n",
       "      <td>8860746.0</td>\n",
       "    </tr>\n",
       "    <tr>\n",
       "      <th>1998-07-21</th>\n",
       "      <td>7.50</td>\n",
       "      <td>7.54</td>\n",
       "      <td>7.49</td>\n",
       "      <td>7.27</td>\n",
       "      <td>1431100.0</td>\n",
       "      <td>15369899.0</td>\n",
       "    </tr>\n",
       "    <tr>\n",
       "      <th>1998-07-20</th>\n",
       "      <td>7.61</td>\n",
       "      <td>7.61</td>\n",
       "      <td>7.50</td>\n",
       "      <td>7.44</td>\n",
       "      <td>1635300.0</td>\n",
       "      <td>17874036.0</td>\n",
       "    </tr>\n",
       "    <tr>\n",
       "      <th>1998-07-17</th>\n",
       "      <td>7.37</td>\n",
       "      <td>7.65</td>\n",
       "      <td>7.52</td>\n",
       "      <td>7.37</td>\n",
       "      <td>2183500.0</td>\n",
       "      <td>24026549.0</td>\n",
       "    </tr>\n",
       "    <tr>\n",
       "      <th>1998-07-16</th>\n",
       "      <td>7.55</td>\n",
       "      <td>7.68</td>\n",
       "      <td>7.40</td>\n",
       "      <td>7.36</td>\n",
       "      <td>1807100.0</td>\n",
       "      <td>19581268.0</td>\n",
       "    </tr>\n",
       "    <tr>\n",
       "      <th>1998-07-15</th>\n",
       "      <td>7.74</td>\n",
       "      <td>7.85</td>\n",
       "      <td>7.54</td>\n",
       "      <td>7.51</td>\n",
       "      <td>2097700.0</td>\n",
       "      <td>23485305.0</td>\n",
       "    </tr>\n",
       "    <tr>\n",
       "      <th>1998-07-14</th>\n",
       "      <td>7.58</td>\n",
       "      <td>7.85</td>\n",
       "      <td>7.74</td>\n",
       "      <td>7.57</td>\n",
       "      <td>3823800.0</td>\n",
       "      <td>42907184.0</td>\n",
       "    </tr>\n",
       "    <tr>\n",
       "      <th>1998-07-13</th>\n",
       "      <td>7.40</td>\n",
       "      <td>7.64</td>\n",
       "      <td>7.51</td>\n",
       "      <td>7.40</td>\n",
       "      <td>2836200.0</td>\n",
       "      <td>31169821.0</td>\n",
       "    </tr>\n",
       "    <tr>\n",
       "      <th>1998-07-10</th>\n",
       "      <td>7.33</td>\n",
       "      <td>7.54</td>\n",
       "      <td>7.37</td>\n",
       "      <td>7.33</td>\n",
       "      <td>2164200.0</td>\n",
       "      <td>23327962.0</td>\n",
       "    </tr>\n",
       "    <tr>\n",
       "      <th>1998-07-09</th>\n",
       "      <td>7.42</td>\n",
       "      <td>7.44</td>\n",
       "      <td>7.32</td>\n",
       "      <td>7.29</td>\n",
       "      <td>854400.0</td>\n",
       "      <td>9090365.0</td>\n",
       "    </tr>\n",
       "    <tr>\n",
       "      <th>1998-07-08</th>\n",
       "      <td>7.19</td>\n",
       "      <td>7.44</td>\n",
       "      <td>7.33</td>\n",
       "      <td>7.06</td>\n",
       "      <td>1599300.0</td>\n",
       "      <td>16952105.0</td>\n",
       "    </tr>\n",
       "    <tr>\n",
       "      <th>1998-07-07</th>\n",
       "      <td>7.03</td>\n",
       "      <td>7.19</td>\n",
       "      <td>7.13</td>\n",
       "      <td>7.02</td>\n",
       "      <td>494300.0</td>\n",
       "      <td>5096195.0</td>\n",
       "    </tr>\n",
       "    <tr>\n",
       "      <th>1998-07-06</th>\n",
       "      <td>7.02</td>\n",
       "      <td>7.21</td>\n",
       "      <td>7.02</td>\n",
       "      <td>6.95</td>\n",
       "      <td>724800.0</td>\n",
       "      <td>7450907.0</td>\n",
       "    </tr>\n",
       "    <tr>\n",
       "      <th>1998-07-03</th>\n",
       "      <td>7.01</td>\n",
       "      <td>7.13</td>\n",
       "      <td>7.02</td>\n",
       "      <td>6.99</td>\n",
       "      <td>628100.0</td>\n",
       "      <td>6429765.0</td>\n",
       "    </tr>\n",
       "    <tr>\n",
       "      <th>1998-07-02</th>\n",
       "      <td>6.94</td>\n",
       "      <td>7.02</td>\n",
       "      <td>6.99</td>\n",
       "      <td>6.87</td>\n",
       "      <td>1264000.0</td>\n",
       "      <td>12734339.0</td>\n",
       "    </tr>\n",
       "    <tr>\n",
       "      <th>1998-07-01</th>\n",
       "      <td>7.23</td>\n",
       "      <td>7.26</td>\n",
       "      <td>6.95</td>\n",
       "      <td>6.94</td>\n",
       "      <td>1032300.0</td>\n",
       "      <td>10620121.0</td>\n",
       "    </tr>\n",
       "    <tr>\n",
       "      <th>1998-06-30</th>\n",
       "      <td>7.01</td>\n",
       "      <td>7.19</td>\n",
       "      <td>7.06</td>\n",
       "      <td>6.94</td>\n",
       "      <td>1002400.0</td>\n",
       "      <td>10308808.0</td>\n",
       "    </tr>\n",
       "    <tr>\n",
       "      <th>1998-06-29</th>\n",
       "      <td>7.19</td>\n",
       "      <td>7.19</td>\n",
       "      <td>6.99</td>\n",
       "      <td>6.92</td>\n",
       "      <td>1263700.0</td>\n",
       "      <td>12893700.0</td>\n",
       "    </tr>\n",
       "    <tr>\n",
       "      <th>1998-06-26</th>\n",
       "      <td>7.42</td>\n",
       "      <td>7.45</td>\n",
       "      <td>7.21</td>\n",
       "      <td>7.16</td>\n",
       "      <td>1262000.0</td>\n",
       "      <td>13299509.0</td>\n",
       "    </tr>\n",
       "    <tr>\n",
       "      <th>1998-06-25</th>\n",
       "      <td>7.50</td>\n",
       "      <td>7.66</td>\n",
       "      <td>7.42</td>\n",
       "      <td>7.37</td>\n",
       "      <td>1501000.0</td>\n",
       "      <td>16404426.0</td>\n",
       "    </tr>\n",
       "    <tr>\n",
       "      <th>1998-06-24</th>\n",
       "      <td>7.50</td>\n",
       "      <td>7.61</td>\n",
       "      <td>7.50</td>\n",
       "      <td>7.37</td>\n",
       "      <td>1290200.0</td>\n",
       "      <td>14060823.0</td>\n",
       "    </tr>\n",
       "    <tr>\n",
       "      <th>1998-06-23</th>\n",
       "      <td>7.55</td>\n",
       "      <td>7.64</td>\n",
       "      <td>7.52</td>\n",
       "      <td>7.37</td>\n",
       "      <td>1367600.0</td>\n",
       "      <td>14910844.0</td>\n",
       "    </tr>\n",
       "    <tr>\n",
       "      <th>...</th>\n",
       "      <td>...</td>\n",
       "      <td>...</td>\n",
       "      <td>...</td>\n",
       "      <td>...</td>\n",
       "      <td>...</td>\n",
       "      <td>...</td>\n",
       "    </tr>\n",
       "    <tr>\n",
       "      <th>2017-09-08</th>\n",
       "      <td>8.11</td>\n",
       "      <td>8.30</td>\n",
       "      <td>8.29</td>\n",
       "      <td>8.11</td>\n",
       "      <td>11632800.0</td>\n",
       "      <td>95679426.0</td>\n",
       "    </tr>\n",
       "    <tr>\n",
       "      <th>2017-09-07</th>\n",
       "      <td>8.29</td>\n",
       "      <td>8.31</td>\n",
       "      <td>8.11</td>\n",
       "      <td>8.10</td>\n",
       "      <td>9945200.0</td>\n",
       "      <td>81500483.0</td>\n",
       "    </tr>\n",
       "    <tr>\n",
       "      <th>2017-09-06</th>\n",
       "      <td>8.02</td>\n",
       "      <td>8.30</td>\n",
       "      <td>8.29</td>\n",
       "      <td>8.00</td>\n",
       "      <td>12364026.0</td>\n",
       "      <td>101288705.0</td>\n",
       "    </tr>\n",
       "    <tr>\n",
       "      <th>2017-09-05</th>\n",
       "      <td>8.17</td>\n",
       "      <td>8.20</td>\n",
       "      <td>8.02</td>\n",
       "      <td>8.00</td>\n",
       "      <td>7866949.0</td>\n",
       "      <td>63464398.0</td>\n",
       "    </tr>\n",
       "    <tr>\n",
       "      <th>2017-09-04</th>\n",
       "      <td>8.16</td>\n",
       "      <td>8.26</td>\n",
       "      <td>8.15</td>\n",
       "      <td>8.11</td>\n",
       "      <td>7330201.0</td>\n",
       "      <td>59984479.0</td>\n",
       "    </tr>\n",
       "    <tr>\n",
       "      <th>2017-09-01</th>\n",
       "      <td>8.10</td>\n",
       "      <td>8.23</td>\n",
       "      <td>8.16</td>\n",
       "      <td>8.06</td>\n",
       "      <td>9575659.0</td>\n",
       "      <td>78011385.0</td>\n",
       "    </tr>\n",
       "    <tr>\n",
       "      <th>2017-08-31</th>\n",
       "      <td>8.06</td>\n",
       "      <td>8.11</td>\n",
       "      <td>8.08</td>\n",
       "      <td>7.98</td>\n",
       "      <td>7045055.0</td>\n",
       "      <td>56633007.0</td>\n",
       "    </tr>\n",
       "    <tr>\n",
       "      <th>2017-08-30</th>\n",
       "      <td>8.04</td>\n",
       "      <td>8.16</td>\n",
       "      <td>8.11</td>\n",
       "      <td>8.00</td>\n",
       "      <td>8083065.0</td>\n",
       "      <td>65346850.0</td>\n",
       "    </tr>\n",
       "    <tr>\n",
       "      <th>2017-08-29</th>\n",
       "      <td>8.04</td>\n",
       "      <td>8.07</td>\n",
       "      <td>8.02</td>\n",
       "      <td>8.00</td>\n",
       "      <td>4248001.0</td>\n",
       "      <td>34096813.0</td>\n",
       "    </tr>\n",
       "    <tr>\n",
       "      <th>2017-08-28</th>\n",
       "      <td>8.00</td>\n",
       "      <td>8.11</td>\n",
       "      <td>8.04</td>\n",
       "      <td>8.00</td>\n",
       "      <td>6025444.0</td>\n",
       "      <td>48568013.0</td>\n",
       "    </tr>\n",
       "    <tr>\n",
       "      <th>2017-08-25</th>\n",
       "      <td>7.88</td>\n",
       "      <td>8.03</td>\n",
       "      <td>8.02</td>\n",
       "      <td>7.88</td>\n",
       "      <td>5174606.0</td>\n",
       "      <td>41260179.0</td>\n",
       "    </tr>\n",
       "    <tr>\n",
       "      <th>2017-08-24</th>\n",
       "      <td>7.85</td>\n",
       "      <td>7.95</td>\n",
       "      <td>7.88</td>\n",
       "      <td>7.83</td>\n",
       "      <td>3744501.0</td>\n",
       "      <td>29583596.0</td>\n",
       "    </tr>\n",
       "    <tr>\n",
       "      <th>2017-08-23</th>\n",
       "      <td>8.05</td>\n",
       "      <td>8.06</td>\n",
       "      <td>7.87</td>\n",
       "      <td>7.86</td>\n",
       "      <td>8045196.0</td>\n",
       "      <td>63796098.0</td>\n",
       "    </tr>\n",
       "    <tr>\n",
       "      <th>2017-08-22</th>\n",
       "      <td>8.13</td>\n",
       "      <td>8.15</td>\n",
       "      <td>8.04</td>\n",
       "      <td>8.01</td>\n",
       "      <td>5008586.0</td>\n",
       "      <td>40381980.0</td>\n",
       "    </tr>\n",
       "    <tr>\n",
       "      <th>2017-08-21</th>\n",
       "      <td>8.07</td>\n",
       "      <td>8.14</td>\n",
       "      <td>8.13</td>\n",
       "      <td>8.02</td>\n",
       "      <td>7316902.0</td>\n",
       "      <td>59253894.0</td>\n",
       "    </tr>\n",
       "    <tr>\n",
       "      <th>2017-08-18</th>\n",
       "      <td>7.99</td>\n",
       "      <td>8.06</td>\n",
       "      <td>8.02</td>\n",
       "      <td>7.97</td>\n",
       "      <td>7693620.0</td>\n",
       "      <td>61669821.0</td>\n",
       "    </tr>\n",
       "    <tr>\n",
       "      <th>2017-08-17</th>\n",
       "      <td>8.01</td>\n",
       "      <td>8.09</td>\n",
       "      <td>8.07</td>\n",
       "      <td>7.97</td>\n",
       "      <td>9361747.0</td>\n",
       "      <td>75298369.0</td>\n",
       "    </tr>\n",
       "    <tr>\n",
       "      <th>2017-08-16</th>\n",
       "      <td>8.16</td>\n",
       "      <td>8.17</td>\n",
       "      <td>8.04</td>\n",
       "      <td>7.96</td>\n",
       "      <td>10021870.0</td>\n",
       "      <td>80704428.0</td>\n",
       "    </tr>\n",
       "    <tr>\n",
       "      <th>2017-08-15</th>\n",
       "      <td>8.06</td>\n",
       "      <td>8.21</td>\n",
       "      <td>8.19</td>\n",
       "      <td>8.04</td>\n",
       "      <td>9408951.0</td>\n",
       "      <td>76460982.0</td>\n",
       "    </tr>\n",
       "    <tr>\n",
       "      <th>2017-08-14</th>\n",
       "      <td>8.02</td>\n",
       "      <td>8.09</td>\n",
       "      <td>8.08</td>\n",
       "      <td>7.95</td>\n",
       "      <td>7968931.0</td>\n",
       "      <td>64027863.0</td>\n",
       "    </tr>\n",
       "    <tr>\n",
       "      <th>2017-08-11</th>\n",
       "      <td>8.23</td>\n",
       "      <td>8.30</td>\n",
       "      <td>8.00</td>\n",
       "      <td>8.00</td>\n",
       "      <td>11736302.0</td>\n",
       "      <td>95296502.0</td>\n",
       "    </tr>\n",
       "    <tr>\n",
       "      <th>2017-08-10</th>\n",
       "      <td>8.33</td>\n",
       "      <td>8.37</td>\n",
       "      <td>8.30</td>\n",
       "      <td>8.20</td>\n",
       "      <td>11065273.0</td>\n",
       "      <td>91557971.0</td>\n",
       "    </tr>\n",
       "    <tr>\n",
       "      <th>2017-08-09</th>\n",
       "      <td>8.42</td>\n",
       "      <td>8.48</td>\n",
       "      <td>8.37</td>\n",
       "      <td>8.22</td>\n",
       "      <td>16361788.0</td>\n",
       "      <td>135993162.0</td>\n",
       "    </tr>\n",
       "    <tr>\n",
       "      <th>2017-08-08</th>\n",
       "      <td>8.59</td>\n",
       "      <td>8.60</td>\n",
       "      <td>8.42</td>\n",
       "      <td>8.36</td>\n",
       "      <td>13405589.0</td>\n",
       "      <td>113654533.0</td>\n",
       "    </tr>\n",
       "    <tr>\n",
       "      <th>2017-08-07</th>\n",
       "      <td>8.51</td>\n",
       "      <td>8.62</td>\n",
       "      <td>8.61</td>\n",
       "      <td>8.35</td>\n",
       "      <td>13541179.0</td>\n",
       "      <td>115074124.0</td>\n",
       "    </tr>\n",
       "    <tr>\n",
       "      <th>2017-08-04</th>\n",
       "      <td>8.69</td>\n",
       "      <td>8.90</td>\n",
       "      <td>8.52</td>\n",
       "      <td>8.50</td>\n",
       "      <td>23241485.0</td>\n",
       "      <td>202479318.0</td>\n",
       "    </tr>\n",
       "    <tr>\n",
       "      <th>2017-08-03</th>\n",
       "      <td>8.40</td>\n",
       "      <td>8.82</td>\n",
       "      <td>8.74</td>\n",
       "      <td>8.36</td>\n",
       "      <td>30504067.0</td>\n",
       "      <td>263309579.0</td>\n",
       "    </tr>\n",
       "    <tr>\n",
       "      <th>2017-08-02</th>\n",
       "      <td>8.26</td>\n",
       "      <td>8.69</td>\n",
       "      <td>8.52</td>\n",
       "      <td>8.13</td>\n",
       "      <td>37185222.0</td>\n",
       "      <td>315535864.0</td>\n",
       "    </tr>\n",
       "    <tr>\n",
       "      <th>2017-08-01</th>\n",
       "      <td>8.40</td>\n",
       "      <td>8.47</td>\n",
       "      <td>8.27</td>\n",
       "      <td>8.19</td>\n",
       "      <td>17749326.0</td>\n",
       "      <td>147383715.0</td>\n",
       "    </tr>\n",
       "    <tr>\n",
       "      <th>2017-07-31</th>\n",
       "      <td>8.10</td>\n",
       "      <td>8.44</td>\n",
       "      <td>8.43</td>\n",
       "      <td>7.95</td>\n",
       "      <td>26318181.0</td>\n",
       "      <td>215697322.0</td>\n",
       "    </tr>\n",
       "  </tbody>\n",
       "</table>\n",
       "<p>4705 rows × 6 columns</p>\n",
       "</div>"
      ],
      "text/plain": [
       "            open  high  close   low      volume       amount\n",
       "date                                                        \n",
       "1998-08-03  7.68  7.79   7.57  7.47   2008400.0   22278046.0\n",
       "1998-07-31  7.84  7.84   7.68  7.68   1347500.0   15118555.0\n",
       "1998-07-30  7.81  7.87   7.85  7.68   1887100.0   21222855.0\n",
       "1998-07-29  7.99  8.09   7.79  7.61   2389200.0   27297182.0\n",
       "1998-07-28  7.81  8.04   7.99  7.81   3480400.0   40184568.0\n",
       "1998-07-27  7.74  7.88   7.81  7.66   2034400.0   22954582.0\n",
       "1998-07-24  7.83  7.88   7.71  7.64   3637400.0   41193135.0\n",
       "1998-07-23  7.32  7.82   7.79  7.32   2023100.0   22276975.0\n",
       "1998-07-22  7.48  7.48   7.33  7.28    830600.0    8860746.0\n",
       "1998-07-21  7.50  7.54   7.49  7.27   1431100.0   15369899.0\n",
       "1998-07-20  7.61  7.61   7.50  7.44   1635300.0   17874036.0\n",
       "1998-07-17  7.37  7.65   7.52  7.37   2183500.0   24026549.0\n",
       "1998-07-16  7.55  7.68   7.40  7.36   1807100.0   19581268.0\n",
       "1998-07-15  7.74  7.85   7.54  7.51   2097700.0   23485305.0\n",
       "1998-07-14  7.58  7.85   7.74  7.57   3823800.0   42907184.0\n",
       "1998-07-13  7.40  7.64   7.51  7.40   2836200.0   31169821.0\n",
       "1998-07-10  7.33  7.54   7.37  7.33   2164200.0   23327962.0\n",
       "1998-07-09  7.42  7.44   7.32  7.29    854400.0    9090365.0\n",
       "1998-07-08  7.19  7.44   7.33  7.06   1599300.0   16952105.0\n",
       "1998-07-07  7.03  7.19   7.13  7.02    494300.0    5096195.0\n",
       "1998-07-06  7.02  7.21   7.02  6.95    724800.0    7450907.0\n",
       "1998-07-03  7.01  7.13   7.02  6.99    628100.0    6429765.0\n",
       "1998-07-02  6.94  7.02   6.99  6.87   1264000.0   12734339.0\n",
       "1998-07-01  7.23  7.26   6.95  6.94   1032300.0   10620121.0\n",
       "1998-06-30  7.01  7.19   7.06  6.94   1002400.0   10308808.0\n",
       "1998-06-29  7.19  7.19   6.99  6.92   1263700.0   12893700.0\n",
       "1998-06-26  7.42  7.45   7.21  7.16   1262000.0   13299509.0\n",
       "1998-06-25  7.50  7.66   7.42  7.37   1501000.0   16404426.0\n",
       "1998-06-24  7.50  7.61   7.50  7.37   1290200.0   14060823.0\n",
       "1998-06-23  7.55  7.64   7.52  7.37   1367600.0   14910844.0\n",
       "...          ...   ...    ...   ...         ...          ...\n",
       "2017-09-08  8.11  8.30   8.29  8.11  11632800.0   95679426.0\n",
       "2017-09-07  8.29  8.31   8.11  8.10   9945200.0   81500483.0\n",
       "2017-09-06  8.02  8.30   8.29  8.00  12364026.0  101288705.0\n",
       "2017-09-05  8.17  8.20   8.02  8.00   7866949.0   63464398.0\n",
       "2017-09-04  8.16  8.26   8.15  8.11   7330201.0   59984479.0\n",
       "2017-09-01  8.10  8.23   8.16  8.06   9575659.0   78011385.0\n",
       "2017-08-31  8.06  8.11   8.08  7.98   7045055.0   56633007.0\n",
       "2017-08-30  8.04  8.16   8.11  8.00   8083065.0   65346850.0\n",
       "2017-08-29  8.04  8.07   8.02  8.00   4248001.0   34096813.0\n",
       "2017-08-28  8.00  8.11   8.04  8.00   6025444.0   48568013.0\n",
       "2017-08-25  7.88  8.03   8.02  7.88   5174606.0   41260179.0\n",
       "2017-08-24  7.85  7.95   7.88  7.83   3744501.0   29583596.0\n",
       "2017-08-23  8.05  8.06   7.87  7.86   8045196.0   63796098.0\n",
       "2017-08-22  8.13  8.15   8.04  8.01   5008586.0   40381980.0\n",
       "2017-08-21  8.07  8.14   8.13  8.02   7316902.0   59253894.0\n",
       "2017-08-18  7.99  8.06   8.02  7.97   7693620.0   61669821.0\n",
       "2017-08-17  8.01  8.09   8.07  7.97   9361747.0   75298369.0\n",
       "2017-08-16  8.16  8.17   8.04  7.96  10021870.0   80704428.0\n",
       "2017-08-15  8.06  8.21   8.19  8.04   9408951.0   76460982.0\n",
       "2017-08-14  8.02  8.09   8.08  7.95   7968931.0   64027863.0\n",
       "2017-08-11  8.23  8.30   8.00  8.00  11736302.0   95296502.0\n",
       "2017-08-10  8.33  8.37   8.30  8.20  11065273.0   91557971.0\n",
       "2017-08-09  8.42  8.48   8.37  8.22  16361788.0  135993162.0\n",
       "2017-08-08  8.59  8.60   8.42  8.36  13405589.0  113654533.0\n",
       "2017-08-07  8.51  8.62   8.61  8.35  13541179.0  115074124.0\n",
       "2017-08-04  8.69  8.90   8.52  8.50  23241485.0  202479318.0\n",
       "2017-08-03  8.40  8.82   8.74  8.36  30504067.0  263309579.0\n",
       "2017-08-02  8.26  8.69   8.52  8.13  37185222.0  315535864.0\n",
       "2017-08-01  8.40  8.47   8.27  8.19  17749326.0  147383715.0\n",
       "2017-07-31  8.10  8.44   8.43  7.95  26318181.0  215697322.0\n",
       "\n",
       "[4705 rows x 6 columns]"
      ]
     },
     "execution_count": 1,
     "metadata": {},
     "output_type": "execute_result"
    }
   ],
   "source": [
    "from greenseer.repository.china_stock import create_daily_price_repository\n",
    "from logging.config import fileConfig\n",
    "fileConfig('logging_config.ini')\n",
    "china_daily_repository = create_daily_price_repository()\n",
    "china_daily_repository.load_data(\"600096\")"
   ]
  }
 ],
 "metadata": {
  "kernelspec": {
   "display_name": "Python 3",
   "language": "python",
   "name": "python3"
  },
  "language_info": {
   "codemirror_mode": {
    "name": "ipython",
    "version": 3
   },
   "file_extension": ".py",
   "mimetype": "text/x-python",
   "name": "python",
   "nbconvert_exporter": "python",
   "pygments_lexer": "ipython3",
   "version": "3.5.2"
  }
 },
 "nbformat": 4,
 "nbformat_minor": 2
}
