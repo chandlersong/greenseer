{
 "cells": [
  {
   "cell_type": "code",
   "execution_count": 3,
   "metadata": {},
   "outputs": [
    {
     "data": {
      "text/plain": [
       "''"
      ]
     },
     "execution_count": 3,
     "metadata": {},
     "output_type": "execute_result"
    }
   ],
   "source": [
    "from greenseer.configuration import do_global_configuration,get_global_configuration\n",
    "do_global_configuration(\"config.properties\")\n",
    "config = get_global_configuration()\n",
    "config.get_str(\"tushare_config\", \"remote_fetch_days\")"
   ]
  },
  {
   "cell_type": "code",
   "execution_count": 4,
   "metadata": {},
   "outputs": [
    {
     "name": "stderr",
     "output_type": "stream",
     "text": [
      "2018-04-19 23:24:48,548 - root - INFO - __init__ : 148 - /tmp/greenseer/china_stock_price_daily exists\n",
      "2018-04-19 23:24:48,549 - root - INFO - china_stock : 33 - sleep_seconds is 10\n",
      "2018-04-19 23:24:48,550 - root - INFO - china_stock : 34 - remote_fetch_days is 365\n",
      "2018-04-19 23:24:48,551 - root - INFO - china_stock : 35 - max_random_sleep_seconds is 20\n",
      "2018-04-19 23:24:48,553 - root - INFO - china_stock : 36 - max_random_remote_fetch_days is 35\n",
      "2018-04-19 23:24:48,554 - root - INFO - china_stock : 37 - local source type is <class 'greenseer.repository.FolderSource'>\n",
      "2018-04-19 23:24:48,555 - root - INFO - china_stock : 38 - remote source type is get_h_data\n"
     ]
    }
   ],
   "source": [
    "from greenseer.repository.china_stock import create_daily_price_repository\n",
    "from logging.config import fileConfig\n",
    "fileConfig('logging_config.ini')\n",
    "china_daily_repository = create_daily_price_repository()"
   ]
  }
 ],
 "metadata": {
  "kernelspec": {
   "display_name": "Python 3",
   "language": "python",
   "name": "python3"
  },
  "language_info": {
   "codemirror_mode": {
    "name": "ipython",
    "version": 3
   },
   "file_extension": ".py",
   "mimetype": "text/x-python",
   "name": "python",
   "nbconvert_exporter": "python",
   "pygments_lexer": "ipython3",
   "version": "3.5.2"
  }
 },
 "nbformat": 4,
 "nbformat_minor": 2
}
