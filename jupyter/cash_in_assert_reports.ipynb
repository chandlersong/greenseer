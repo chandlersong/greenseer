{
 "cells": [
  {
   "cell_type": "code",
   "execution_count": 170,
   "metadata": {
    "collapsed": true
   },
   "outputs": [
    {
     "name": "stdout",
     "output_type": "stream",
     "text": [
      "The autoreload extension is already loaded. To reload it, use:\n",
      "  %reload_ext autoreload\n"
     ]
    }
   ],
   "source": [
    "import pandas as pd\n",
    "from greenseer.dataset.china_dataset import fetch_train_set, TRAIN_SET_ALL\n",
    "from greenseer.utils.tools import refresh_report_data\n",
    "%load_ext autoreload\n",
    "%autoreload 2\n"
   ]
  },
  {
   "cell_type": "markdown",
   "source": [
    "# 数据说明\n",
    "- reports: 数据全集\n",
    "- analysis_reports: 2018年前的年报\n",
    "- latest_reports: 2019年的年报"
   ],
   "metadata": {
    "collapsed": false,
    "pycharm": {
     "name": "#%% md\n"
    }
   }
  },
  {
   "cell_type": "code",
   "execution_count": 171,
   "outputs": [],
   "source": [
    "refresh_report_data(\"cash_in_assert_report\")\n",
    "reports = fetch_train_set(TRAIN_SET_ALL)"
   ],
   "metadata": {
    "collapsed": false,
    "pycharm": {
     "name": "#%%\n"
    }
   }
  },
  {
   "cell_type": "code",
   "execution_count": 174,
   "outputs": [
    {
     "data": {
      "text/plain": "DatetimeIndex(['1998-12-31', '1999-12-31', '2000-12-31', '2001-12-31',\n               '2002-12-31', '2003-12-31', '2004-12-31', '2005-03-31',\n               '2005-06-30', '2005-09-30', '2005-12-31', '2006-03-31',\n               '2006-06-30', '2006-09-30', '2006-12-31', '2007-03-31',\n               '2007-06-30', '2007-09-30', '2007-12-31', '2008-03-31',\n               '2008-06-30', '2008-09-30', '2008-10-31', '2008-12-31',\n               '2009-03-31', '2009-06-30', '2009-08-31', '2009-09-30',\n               '2009-11-30', '2009-12-31', '2010-03-31', '2010-06-30',\n               '2010-09-30', '2010-10-31', '2010-12-31', '2011-03-31',\n               '2011-06-30', '2011-09-30', '2011-12-31', '2012-03-31',\n               '2012-06-30', '2012-09-30', '2012-12-31', '2013-03-31',\n               '2013-06-30', '2013-09-30', '2013-12-31', '2014-03-31',\n               '2014-06-30', '2014-09-30', '2014-12-31', '2015-03-31',\n               '2015-06-30', '2015-09-30', '2015-12-31', '2016-03-31',\n               '2016-06-30', '2016-09-30', '2016-12-31', '2017-03-01',\n               '2017-03-31', '2017-06-30', '2017-09-30', '2017-12-31',\n               '2018-03-31', '2018-06-30', '2018-09-30', '2018-12-31',\n               '2019-03-31', '2019-06-30', '2019-09-30', '2019-12-31',\n               '2020-03-31'],\n              dtype='datetime64[ns]', name='releaseAt', freq=None)"
     },
     "execution_count": 174,
     "metadata": {},
     "output_type": "execute_result"
    }
   ],
   "source": [
    "reports.sort_index(ascending=True,inplace=True)\n",
    "idx = pd.IndexSlice\n",
    "\n",
    "analysis_reports = reports.loc[idx[:,:'2018'], :].fillna(0)\n",
    "analysis_reports = analysis_reports.loc[analysis_reports.index.get_level_values(1).month == 12, :]\n",
    "latest_reports = reports.loc[idx[:,'2019-12-31'], :].fillna(0)"
   ],
   "metadata": {
    "collapsed": false,
    "pycharm": {
     "name": "#%%\n"
    }
   }
  },
  {
   "cell_type": "code",
   "execution_count": null,
   "outputs": [],
   "source": [
    "\n"
   ],
   "metadata": {
    "collapsed": false,
    "pycharm": {
     "name": "#%%\n"
    }
   }
  }
 ],
 "metadata": {
  "kernelspec": {
   "display_name": "Python 3",
   "language": "python",
   "name": "python3"
  },
  "language_info": {
   "codemirror_mode": {
    "name": "ipython",
    "version": 2
   },
   "file_extension": ".py",
   "mimetype": "text/x-python",
   "name": "python",
   "nbconvert_exporter": "python",
   "pygments_lexer": "ipython2",
   "version": "2.7.6"
  }
 },
 "nbformat": 4,
 "nbformat_minor": 0
}