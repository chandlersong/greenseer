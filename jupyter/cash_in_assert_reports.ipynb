{
 "cells": [
  {
   "cell_type": "code",
   "execution_count": 2,
   "metadata": {},
   "outputs": [],
   "source": [
    "import matplotlib.pyplot as plt\n",
    "import numpy as np\n",
    "import pandas as pd\n",
    "from sklearn.linear_model import LinearRegression,SGDRegressor\n",
    "from sklearn.mixture import GaussianMixture\n",
    "from sklearn.pipeline import Pipeline\n",
    "\n",
    "from greenseer.dataset.china_dataset import fetch_train_set, TRAIN_SET_ALL, RELEASE_AT_INDEX_NAME\n",
    "from greenseer.plots.boundary_plots import plot_gaussian_mixture_boundaries\n",
    "from greenseer.plots.normal_plots import DistributeGramEntry, plot_distribute_gram\n",
    "from greenseer.preprocessing.clean_data import remove_inf_and_na, RemoveAbnormalFilter\n",
    "from greenseer.preprocessing.transformers import pick_annual_report_china, regular_expression_column_filter, \\\n",
    "    re_percent_column_transform, append_industry_transform\n",
    "from greenseer.utils.tools import refresh_report_data, enable_matplotlib_chinese, save_fig, save_csv\n",
    "import matplotlib.pyplot as plt\n",
    "%load_ext autoreload\n",
    "%autoreload 2\n",
    "%matplotlib inline\n",
    "\n",
    "enable_matplotlib_chinese()"
   ]
  },
  {
   "cell_type": "markdown",
   "metadata": {
    "pycharm": {
     "name": "#%% md\n"
    }
   },
   "source": [
    "# 数据说明\n",
    "- reports: 数据全集\n",
    "- analysis_reports: 2018年前的年报\n",
    "- latest_reports: 2019年的年报"
   ]
  },
  {
   "cell_type": "code",
   "execution_count": 3,
   "metadata": {
    "pycharm": {
     "name": "#%%\n"
    }
   },
   "outputs": [],
   "source": [
    "refresh_report_data(\"cash_in_assert_report\")\n",
    "reports = fetch_train_set(TRAIN_SET_ALL)"
   ]
  },
  {
   "cell_type": "code",
   "execution_count": 4,
   "metadata": {
    "pycharm": {
     "name": "#%%\n"
    }
   },
   "outputs": [],
   "source": [
    "reports.sort_index(ascending=True,inplace=True)\n",
    "idx = pd.IndexSlice\n",
    "\n",
    "analysis_reports = reports.loc[idx[:,:'2018'], :].fillna(0)\n",
    "latest_reports = reports.loc[idx[:,'2019-12-31'], :].fillna(0)"
   ]
  },
  {
   "cell_type": "markdown",
   "metadata": {
    "pycharm": {
     "name": "#%% md\n"
    }
   },
   "source": [
    "在这里，取得用于分析的基础数据，存储在变量data中。\n",
    "其中包含了基本的货币资金，短期短款，资产总计，以及他们存在的比值。"
   ]
  },
  {
   "cell_type": "code",
   "execution_count": 5,
   "metadata": {
    "pycharm": {
     "name": "#%%\n"
    }
   },
   "outputs": [],
   "source": [
    "subjects = [r'\\w*货币资金\\w*|\\w*短期借款\\w*|\\w*资产总计\\w*']\n",
    "cash_subject_name = 'cash'\n",
    "st_debt_name = 'short-term debt'\n",
    "\n",
    "prepare_pipeline = Pipeline([\n",
    "        ('pick_annual_report', pick_annual_report_china()),\n",
    "        ('pick_subject', regular_expression_column_filter(patterns=subjects,rename={\"资产总计(万元)\":\"base\"})),\n",
    "        ('percent cache', re_percent_column_transform(numerator=[r'\\w*货币资金\\w*'], denominator=[r'base'],new_name=cash_subject_name)),\n",
    "        ('percent receivable', re_percent_column_transform(numerator=[r'\\w*短期借款\\w*'], denominator=[r'base'],new_name=st_debt_name)),\n",
    "        ('append industry',append_industry_transform()),\n",
    "        ('clean data',remove_inf_and_na()),\n",
    "        ('remove abnormal',RemoveAbnormalFilter([cash_subject_name, st_debt_name],quantile=0.98,mode=\"high\"))\n",
    "])\n",
    "\n",
    "data = prepare_pipeline.fit_transform(analysis_reports)"
   ]
  },
  {
   "cell_type": "markdown",
   "metadata": {},
   "source": [
    "这里。打算计算每个年份的所有现金的平均值。有个简单的比较"
   ]
  },
  {
   "cell_type": "code",
   "execution_count": 6,
   "metadata": {
    "pycharm": {
     "name": "#%%\n"
    }
   },
   "outputs": [
    {
     "ename": "KeyError",
     "evalue": "'releaseAt'",
     "output_type": "error",
     "traceback": [
      "\u001B[0;31m---------------------------------------------------------------------------\u001B[0m",
      "\u001B[0;31mKeyError\u001B[0m                                  Traceback (most recent call last)",
      "\u001B[0;32m<ipython-input-6-8b225ad3a0a9>\u001B[0m in \u001B[0;36m<module>\u001B[0;34m\u001B[0m\n\u001B[0;32m----> 1\u001B[0;31m \u001B[0mannual_avg_data\u001B[0m \u001B[0;34m=\u001B[0m\u001B[0mdata\u001B[0m\u001B[0;34m.\u001B[0m\u001B[0mreset_index\u001B[0m\u001B[0;34m(\u001B[0m\u001B[0;34m)\u001B[0m\u001B[0;34m.\u001B[0m\u001B[0mgroupby\u001B[0m\u001B[0;34m(\u001B[0m\u001B[0mRELEASE_AT_INDEX_NAME\u001B[0m\u001B[0;34m)\u001B[0m\u001B[0;34m.\u001B[0m\u001B[0mmean\u001B[0m\u001B[0;34m(\u001B[0m\u001B[0;34m)\u001B[0m\u001B[0;34m\u001B[0m\u001B[0;34m\u001B[0m\u001B[0m\n\u001B[0m\u001B[1;32m      2\u001B[0m \u001B[0;34m\u001B[0m\u001B[0m\n\u001B[1;32m      3\u001B[0m \u001B[0mplt\u001B[0m\u001B[0;34m.\u001B[0m\u001B[0mplot\u001B[0m\u001B[0;34m(\u001B[0m\u001B[0mannual_avg_data\u001B[0m\u001B[0;34m.\u001B[0m\u001B[0mindex\u001B[0m\u001B[0;34m.\u001B[0m\u001B[0myear\u001B[0m\u001B[0;34m,\u001B[0m\u001B[0mannual_avg_data\u001B[0m\u001B[0;34m[\u001B[0m\u001B[0mcash_subject_name\u001B[0m\u001B[0;34m]\u001B[0m\u001B[0;34m,\u001B[0m\u001B[0;34m'-r'\u001B[0m\u001B[0;34m,\u001B[0m\u001B[0mlabel\u001B[0m\u001B[0;34m=\u001B[0m\u001B[0;34m'现金比例'\u001B[0m\u001B[0;34m)\u001B[0m\u001B[0;34m\u001B[0m\u001B[0;34m\u001B[0m\u001B[0m\n\u001B[1;32m      4\u001B[0m \u001B[0mplt\u001B[0m\u001B[0;34m.\u001B[0m\u001B[0mplot\u001B[0m\u001B[0;34m(\u001B[0m\u001B[0mannual_avg_data\u001B[0m\u001B[0;34m.\u001B[0m\u001B[0mindex\u001B[0m\u001B[0;34m.\u001B[0m\u001B[0myear\u001B[0m\u001B[0;34m,\u001B[0m\u001B[0mannual_avg_data\u001B[0m\u001B[0;34m[\u001B[0m\u001B[0mst_debt_name\u001B[0m\u001B[0;34m]\u001B[0m\u001B[0;34m,\u001B[0m\u001B[0;34m'-b'\u001B[0m\u001B[0;34m,\u001B[0m\u001B[0mlabel\u001B[0m\u001B[0;34m=\u001B[0m\u001B[0;34m'现金债比例'\u001B[0m\u001B[0;34m)\u001B[0m\u001B[0;34m\u001B[0m\u001B[0;34m\u001B[0m\u001B[0m\n\u001B[1;32m      5\u001B[0m \u001B[0mannual_x_axis\u001B[0m \u001B[0;34m=\u001B[0m \u001B[0mnp\u001B[0m\u001B[0;34m.\u001B[0m\u001B[0marray\u001B[0m\u001B[0;34m(\u001B[0m\u001B[0mannual_avg_data\u001B[0m\u001B[0;34m.\u001B[0m\u001B[0mindex\u001B[0m\u001B[0;34m.\u001B[0m\u001B[0myear\u001B[0m\u001B[0;34m)\u001B[0m\u001B[0;34m\u001B[0m\u001B[0;34m\u001B[0m\u001B[0m\n",
      "\u001B[0;32m~/.conda/envs/Normal/lib/python3.7/site-packages/pandas/core/frame.py\u001B[0m in \u001B[0;36mgroupby\u001B[0;34m(self, by, axis, level, as_index, sort, group_keys, squeeze, observed)\u001B[0m\n\u001B[1;32m   5808\u001B[0m             \u001B[0mgroup_keys\u001B[0m\u001B[0;34m=\u001B[0m\u001B[0mgroup_keys\u001B[0m\u001B[0;34m,\u001B[0m\u001B[0;34m\u001B[0m\u001B[0;34m\u001B[0m\u001B[0m\n\u001B[1;32m   5809\u001B[0m             \u001B[0msqueeze\u001B[0m\u001B[0;34m=\u001B[0m\u001B[0msqueeze\u001B[0m\u001B[0;34m,\u001B[0m\u001B[0;34m\u001B[0m\u001B[0;34m\u001B[0m\u001B[0m\n\u001B[0;32m-> 5810\u001B[0;31m             \u001B[0mobserved\u001B[0m\u001B[0;34m=\u001B[0m\u001B[0mobserved\u001B[0m\u001B[0;34m,\u001B[0m\u001B[0;34m\u001B[0m\u001B[0;34m\u001B[0m\u001B[0m\n\u001B[0m\u001B[1;32m   5811\u001B[0m         )\n\u001B[1;32m   5812\u001B[0m \u001B[0;34m\u001B[0m\u001B[0m\n",
      "\u001B[0;32m~/.conda/envs/Normal/lib/python3.7/site-packages/pandas/core/groupby/groupby.py\u001B[0m in \u001B[0;36m__init__\u001B[0;34m(self, obj, keys, axis, level, grouper, exclusions, selection, as_index, sort, group_keys, squeeze, observed, mutated)\u001B[0m\n\u001B[1;32m    407\u001B[0m                 \u001B[0msort\u001B[0m\u001B[0;34m=\u001B[0m\u001B[0msort\u001B[0m\u001B[0;34m,\u001B[0m\u001B[0;34m\u001B[0m\u001B[0;34m\u001B[0m\u001B[0m\n\u001B[1;32m    408\u001B[0m                 \u001B[0mobserved\u001B[0m\u001B[0;34m=\u001B[0m\u001B[0mobserved\u001B[0m\u001B[0;34m,\u001B[0m\u001B[0;34m\u001B[0m\u001B[0;34m\u001B[0m\u001B[0m\n\u001B[0;32m--> 409\u001B[0;31m                 \u001B[0mmutated\u001B[0m\u001B[0;34m=\u001B[0m\u001B[0mself\u001B[0m\u001B[0;34m.\u001B[0m\u001B[0mmutated\u001B[0m\u001B[0;34m,\u001B[0m\u001B[0;34m\u001B[0m\u001B[0;34m\u001B[0m\u001B[0m\n\u001B[0m\u001B[1;32m    410\u001B[0m             )\n\u001B[1;32m    411\u001B[0m \u001B[0;34m\u001B[0m\u001B[0m\n",
      "\u001B[0;32m~/.conda/envs/Normal/lib/python3.7/site-packages/pandas/core/groupby/grouper.py\u001B[0m in \u001B[0;36mget_grouper\u001B[0;34m(obj, key, axis, level, sort, observed, mutated, validate)\u001B[0m\n\u001B[1;32m    596\u001B[0m                 \u001B[0min_axis\u001B[0m\u001B[0;34m,\u001B[0m \u001B[0mname\u001B[0m\u001B[0;34m,\u001B[0m \u001B[0mlevel\u001B[0m\u001B[0;34m,\u001B[0m \u001B[0mgpr\u001B[0m \u001B[0;34m=\u001B[0m \u001B[0;32mFalse\u001B[0m\u001B[0;34m,\u001B[0m \u001B[0;32mNone\u001B[0m\u001B[0;34m,\u001B[0m \u001B[0mgpr\u001B[0m\u001B[0;34m,\u001B[0m \u001B[0;32mNone\u001B[0m\u001B[0;34m\u001B[0m\u001B[0;34m\u001B[0m\u001B[0m\n\u001B[1;32m    597\u001B[0m             \u001B[0;32melse\u001B[0m\u001B[0;34m:\u001B[0m\u001B[0;34m\u001B[0m\u001B[0;34m\u001B[0m\u001B[0m\n\u001B[0;32m--> 598\u001B[0;31m                 \u001B[0;32mraise\u001B[0m \u001B[0mKeyError\u001B[0m\u001B[0;34m(\u001B[0m\u001B[0mgpr\u001B[0m\u001B[0;34m)\u001B[0m\u001B[0;34m\u001B[0m\u001B[0;34m\u001B[0m\u001B[0m\n\u001B[0m\u001B[1;32m    599\u001B[0m         \u001B[0;32melif\u001B[0m \u001B[0misinstance\u001B[0m\u001B[0;34m(\u001B[0m\u001B[0mgpr\u001B[0m\u001B[0;34m,\u001B[0m \u001B[0mGrouper\u001B[0m\u001B[0;34m)\u001B[0m \u001B[0;32mand\u001B[0m \u001B[0mgpr\u001B[0m\u001B[0;34m.\u001B[0m\u001B[0mkey\u001B[0m \u001B[0;32mis\u001B[0m \u001B[0;32mnot\u001B[0m \u001B[0;32mNone\u001B[0m\u001B[0;34m:\u001B[0m\u001B[0;34m\u001B[0m\u001B[0;34m\u001B[0m\u001B[0m\n\u001B[1;32m    600\u001B[0m             \u001B[0;31m# Add key to exclusions\u001B[0m\u001B[0;34m\u001B[0m\u001B[0;34m\u001B[0m\u001B[0;34m\u001B[0m\u001B[0m\n",
      "\u001B[0;31mKeyError\u001B[0m: 'releaseAt'"
     ]
    }
   ],
   "source": [
    "\n",
    "annual_avg_data =data.reset_index().groupby(RELEASE_AT_INDEX_NAME).mean()\n",
    "\n",
    "plt.plot(annual_avg_data.index.year,annual_avg_data[cash_subject_name],'-r',label='现金比例')\n",
    "plt.plot(annual_avg_data.index.year,annual_avg_data[st_debt_name],'-b',label='现金债比例')\n",
    "annual_x_axis = np.array(annual_avg_data.index.year)\n",
    "plt.legend( loc='upper right')\n",
    "plt.xticks(annual_x_axis[::2])\n",
    "save_fig(\"annual_avg_all_fig\")\n",
    "save_csv(annual_avg_data,\"annual_avg_all_fig\")\n",
    "plt.show()"
   ]
  },
  {
   "cell_type": "markdown",
   "metadata": {
    "pycharm": {
     "name": "#%% md\n"
    }
   },
   "source": [
    "用高斯分布，用现金比例和短期债，按照行业来进行分类"
   ]
  },
  {
   "cell_type": "code",
   "execution_count": null,
   "metadata": {
    "pycharm": {
     "name": "#%%\n"
    }
   },
   "outputs": [],
   "source": [
    "industry_mean = data.groupby(\"industry\").mean()\n",
    "industry_mean_model = GaussianMixture(n_components=3,n_init=10)\n",
    "X = industry_mean[[cash_subject_name,st_debt_name]].values\n",
    "y_pred = industry_mean_model.fit(X).predict(X)\n",
    "industry_mean[\"group\"] = y_pred\n",
    "save_csv(data=industry_mean,name=\"industry_mean_group\")\n",
    "\n",
    "x_limits = X[:,0].min()-0.1,X[:,0].max()+0.1\n",
    "y_limits = X[:,1].min()-0.1,X[:,1].max()+0.1\n",
    "plot_data = [\n",
    "    DistributeGramEntry(x=X[y_pred==0, 0],y= X[y_pred==0, 1],fmt=\"yo\",label=\"组0\"),\n",
    "    DistributeGramEntry(x=X[y_pred==1, 0],y= X[y_pred==1, 1],fmt=\"bs\",label=\"组1\"),\n",
    "    DistributeGramEntry(x=X[y_pred==2, 0],y= X[y_pred==2, 1],fmt=\"g^\",label=\"组2\"),\n",
    "]\n",
    "figure,(av1,av2) = plt.subplots(2,1,figsize=(10,10))\n",
    "subject_label = [\"现金比例\",\"短期债务\"]\n",
    "plot_distribute_gram(av1,plot_data,subject_label)\n",
    "av1.set_ylabel(\"短期债务\")\n",
    "av1.set_xlim(x_limits)\n",
    "size = (np.array([X[:,0].min()-0.1,X[:,1].min()-0.1]),np.array([X[:,0].max()+0.1,X[:,1].max()+0.1]))\n",
    "plot_gaussian_mixture_boundaries(av2,industry_mean_model,size,cm=plt.cm.YlOrBr)\n",
    "av2.set_xlim(x_limits)\n",
    "av2.set_xlabel(\"现金比例\")\n",
    "av2.set_ylabel(\"短期债务\")\n",
    "save_fig(\"industry_mean_group\")\n",
    "plt.show()"
   ]
  },
  {
   "cell_type": "markdown",
   "metadata": {
    "pycharm": {
     "name": "#%% md\n"
    }
   },
   "source": [
    " ## 行业的分布图\n",
    "根据行业的信息，用高斯来做分类"
   ]
  },
  {
   "cell_type": "code",
   "execution_count": null,
   "metadata": {
    "pycharm": {
     "name": "#%%\n"
    }
   },
   "outputs": [],
   "source": [
    "industry_company_count = data.groupby(\"industry\").count()\n",
    "company_sum = industry_company_count['base'].sum()\n",
    "industry_mean[\"weight\"] = industry_company_count['base'].values/company_sum\n",
    "company_mean_model = GaussianMixture(n_components=3,n_init=10,\n",
    "                                     means_init=industry_mean[[cash_subject_name,st_debt_name]].values,\n",
    "                                     weights_init=industry_mean[\"weight\"].values)"
   ]
  },
  {
   "cell_type": "code",
   "execution_count": null,
   "metadata": {
    "pycharm": {
     "name": "#%%\n"
    }
   },
   "outputs": [],
   "source": [
    "fig, ax = plt.subplots()\n",
    "\n",
    "ax.scatter(industry_mean[cash_subject_name].values,\n",
    "           industry_mean[st_debt_name].values,\n",
    "           s=industry_mean[\"weight\"].values*50000,\n",
    "           c= plt.cm.hot(industry_mean['weight']*100),\n",
    "           alpha=0.5)\n",
    "plt.show()\n",
    "\n"
   ]
  },
  {
   "cell_type": "markdown",
   "metadata": {},
   "source": [
    "## 预测一年新的数据\n",
    "\n",
    "这里，想要取2017年(包括2017年)的之前五年的数据。然后2018年的数据微target建立预测模型。\n",
    "\n"
   ]
  },
  {
   "cell_type": "code",
   "execution_count": null,
   "metadata": {
    "pycharm": {
     "name": "#%%\n"
    }
   },
   "outputs": [],
   "source": [
    "predict_2018_data = data.copy()\n",
    "predict_2018_data.sort_index(ascending=True,inplace=True)\n",
    "data_2012_to_2017 = predict_2018_data.loc[idx[:,'2012':'2017'], :]\n",
    "data_2012_to_2017 = data_2012_to_2017[cash_subject_name]\n",
    "stock_ids = data_2012_to_2017.index.levels[0]\n",
    "\n",
    "data_2012_to_2017.index.names"
   ]
  },
  {
   "cell_type": "code",
   "execution_count": null,
   "metadata": {
    "pycharm": {
     "name": "#%%\n"
    }
   },
   "outputs": [],
   "source": [
    "stock_ids = data_2012_to_2017.index.levels[0]\n",
    "pending_array = []\n",
    "\n",
    "for stock_id in stock_ids:\n",
    "    try:\n",
    "        one_stock = data_2012_to_2017.loc[stock_id]\n",
    "    except KeyError as err:\n",
    "        print(\"{} can't get the data\".format(err))\n",
    "        continue\n",
    "\n",
    "    if len(one_stock) <= 5 :\n",
    "        continue\n",
    "    one_stock = one_stock.to_frame().T\n",
    "    one_stock.index= [stock_id]\n",
    "    one_stock.fillna(0)\n",
    "    pending_array.append(one_stock)\n",
    "\n",
    "data_2012_to_2017 = pd.concat(pending_array)"
   ]
  },
  {
   "cell_type": "code",
   "execution_count": null,
   "metadata": {
    "pycharm": {
     "name": "#%%\n"
    }
   },
   "outputs": [],
   "source": [
    "lin_reg = LinearRegression()\n",
    "index_2012_to_2017 = data_2012_to_2017.index\n",
    "predict_2018 = predict_2018_data.loc[idx[:,'2018'], :]\n",
    "predict_2018 = predict_2018.reset_index().set_index(\"code\")\n",
    "predict_2018_index = predict_2018.index"
   ]
  },
  {
   "cell_type": "code",
   "execution_count": null,
   "metadata": {
    "pycharm": {
     "name": "#%%\n"
    }
   },
   "outputs": [],
   "source": [
    "predict_index = predict_2018_index.intersection(index_2012_to_2017)\n",
    "#predict_index =  predict_2018.loc[predict_index].index.levels[0].intersection(predict_index)\n",
    "X = data_2012_to_2017.loc[predict_index.values].values\n",
    "y = predict_2018.loc[predict_index][cash_subject_name].values\n",
    "len(X),len(y),len(predict_index),len(index_2012_to_2017),len(predict_2018_index)"
   ]
  },
  {
   "cell_type": "code",
   "execution_count": null,
   "metadata": {
    "pycharm": {
     "name": "#%%\n"
    }
   },
   "outputs": [],
   "source": [
    "lin_reg.fit(X,y)\n"
   ]
  },
  {
   "cell_type": "code",
   "execution_count": null,
   "metadata": {
    "pycharm": {
     "name": "#%%\n"
    }
   },
   "outputs": [],
   "source": [
    "sgd_reg = SGDRegressor(max_iter=1000, tol=1e-3, penalty=None, eta0=0.1)\n",
    "sgd_reg.fit(X, y)\n",
    "\n",
    "\n"
   ]
  }
 ],
 "metadata": {
  "kernelspec": {
   "display_name": "Python 3",
   "language": "python",
   "name": "python3"
  },
  "language_info": {
   "codemirror_mode": {
    "name": "ipython",
    "version": 3
   },
   "file_extension": ".py",
   "mimetype": "text/x-python",
   "name": "python",
   "nbconvert_exporter": "python",
   "pygments_lexer": "ipython3",
   "version": "3.7.6"
  }
 },
 "nbformat": 4,
 "nbformat_minor": 1
}