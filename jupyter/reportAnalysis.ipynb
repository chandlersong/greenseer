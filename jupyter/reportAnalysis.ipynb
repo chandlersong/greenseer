{
 "cells": [
  {
   "cell_type": "markdown",
   "source": [
    "``` python\n",
    "# if you running at azure nootbook to prepare env\n",
    "#!pip install lxml --ignore-installed lxml\n",
    "#!pip install tushare==1.2.54 \n",
    "```"
   ],
   "metadata": {
    "collapsed": false,
    "pycharm": {
     "name": "#%% md\n"
    }
   }
  },
  {
   "cell_type": "code",
   "execution_count": 2,
   "outputs": [],
   "source": [
    "%load_ext autoreload\n",
    "%autoreload 2"
   ],
   "metadata": {
    "collapsed": false,
    "pycharm": {
     "name": "#%%\n"
    }
   }
  },
  {
   "cell_type": "code",
   "execution_count": 3,
   "metadata": {},
   "outputs": [],
   "source": [
    "from greenseer.configuration import do_global_configuration\n",
    "do_global_configuration(\"config.properties\")"
   ]
  },
  {
   "cell_type": "code",
   "execution_count": 4,
   "outputs": [
    {
     "data": {
      "text/plain": "        st\ncode      \n603212   0\n688126   0\n688123   0\n688088   0\n688268   0",
      "text/html": "<div>\n<style scoped>\n    .dataframe tbody tr th:only-of-type {\n        vertical-align: middle;\n    }\n\n    .dataframe tbody tr th {\n        vertical-align: top;\n    }\n\n    .dataframe thead th {\n        text-align: right;\n    }\n</style>\n<table border=\"1\" class=\"dataframe\">\n  <thead>\n    <tr style=\"text-align: right;\">\n      <th></th>\n      <th>st</th>\n    </tr>\n    <tr>\n      <th>code</th>\n      <th></th>\n    </tr>\n  </thead>\n  <tbody>\n    <tr>\n      <th>603212</th>\n      <td>0</td>\n    </tr>\n    <tr>\n      <th>688126</th>\n      <td>0</td>\n    </tr>\n    <tr>\n      <th>688123</th>\n      <td>0</td>\n    </tr>\n    <tr>\n      <th>688088</th>\n      <td>0</td>\n    </tr>\n    <tr>\n      <th>688268</th>\n      <td>0</td>\n    </tr>\n  </tbody>\n</table>\n</div>"
     },
     "execution_count": 4,
     "metadata": {},
     "output_type": "execute_result"
    }
   ],
   "source": [
    "from greenseer.dataset.china_dataset import fetch_default_targets\n",
    "\n",
    "y = fetch_default_targets()\n",
    "y.head(5)"
   ],
   "metadata": {
    "collapsed": false,
    "pycharm": {
     "name": "#%%\n"
    }
   }
  },
  {
   "cell_type": "markdown",
   "source": [
    "- 600519：茅台"
   ],
   "metadata": {
    "collapsed": false,
    "pycharm": {
     "name": "#%% md\n"
    }
   }
  },
  {
   "cell_type": "code",
   "execution_count": 5,
   "metadata": {},
   "outputs": [
    {
     "data": {
      "text/plain": "(57, 242)"
     },
     "execution_count": 5,
     "metadata": {},
     "output_type": "execute_result"
    }
   ],
   "source": [
    "from greenseer.dataset.china_dataset import fetch_multi_report\n",
    "from logging.config import fileConfig\n",
    "import numpy as np\n",
    "fileConfig('logging_config.ini')\n",
    "reports = fetch_multi_report(stock_ids=np.array([\"600519\"]))\n",
    "reports.shape"
   ]
  },
  {
   "cell_type": "code",
   "execution_count": 7,
   "outputs": [
    {
     "name": "stdout",
     "output_type": "stream",
     "text": [
      "专项应付款(万元)\n",
      "公益性生物资产(万元)\n",
      "其他应付款(万元)\n",
      "其他应收款(万元)\n",
      "内部应付款(万元)\n",
      "内部应收款(万元)\n",
      "存货(万元)\n",
      "应付保证金(万元)\n",
      "应付债券(万元)\n",
      "应付分保账款(万元)\n",
      "应付利息(万元)\n",
      "应付手续费及佣金(万元)\n",
      "应付短期债券(万元)\n",
      "应付票据(万元)\n",
      "应付职工薪酬(万元)\n",
      "应付股利(万元)\n",
      "应付账款(万元)\n",
      "应收保证金(万元)\n",
      "应收保费(万元)\n",
      "应收出口退税(万元)\n",
      "应收分保合同准备金(万元)\n",
      "应收分保账款(万元)\n",
      "应收利息(万元)\n",
      "应收票据(万元)\n",
      "应收股利(万元)\n",
      "应收补贴款(万元)\n",
      "应收账款(万元)\n",
      "生产性生物资产(万元)\n",
      "货币资金(万元)\n",
      "长期应付款(万元)\n",
      "长期应收款(万元)\n"
     ]
    }
   ],
   "source": [
    "subjects = [r'\\w*应付\\w*|\\w*应收\\w*|存货|货币资金|\\w*生物\\w*']\n",
    "\n",
    "from sklearn.pipeline import Pipeline\n",
    "from sklearn.preprocessing import FunctionTransformer\n",
    "from greenseer.preprocessing.transformers import  regular_expression_column_filter, \\\n",
    "    pick_annual_report_china\n",
    "\n",
    "prepare_pipeline = Pipeline([\n",
    "        ('pick_annual_report', FunctionTransformer(func=pick_annual_report_china, validate=False)),\n",
    "        ('pick_subject', FunctionTransformer(func=regular_expression_column_filter, validate=False,kw_args={\"patterns\": subjects})),\n",
    "])\n",
    "\n",
    "annual_reports = prepare_pipeline.fit_transform(reports)\n",
    "for column in annual_reports.columns:\n",
    "    print(column)\n",
    "\n"
   ],
   "metadata": {
    "collapsed": false,
    "pycharm": {
     "name": "#%%\n"
    }
   }
  }
 ],
 "metadata": {
  "kernelspec": {
   "display_name": "Python 3",
   "language": "python",
   "name": "python3"
  },
  "language_info": {
   "codemirror_mode": {
    "name": "ipython",
    "version": 3
   },
   "file_extension": ".py",
   "mimetype": "text/x-python",
   "name": "python",
   "nbconvert_exporter": "python",
   "pygments_lexer": "ipython3",
   "version": "3.5.2"
  }
 },
 "nbformat": 4,
 "nbformat_minor": 2
}