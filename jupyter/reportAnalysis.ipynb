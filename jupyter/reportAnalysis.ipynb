{
 "cells": [
  {
   "cell_type": "markdown",
   "metadata": {
    "pycharm": {
     "name": "#%% md\n"
    }
   },
   "source": [
    "``` python\n",
    "# if you running at azure nootbook to prepare env\n",
    "#!pip install lxml --ignore-installed lxml\n",
    "#!pip install tushare==1.2.54 \n",
    "```"
   ]
  },
  {
   "cell_type": "code",
   "execution_count": 1,
   "metadata": {
    "pycharm": {
     "name": "#%%\n"
    }
   },
   "outputs": [],
   "source": [
    "%load_ext autoreload\n",
    "%autoreload 2"
   ]
  },
  {
   "cell_type": "code",
   "execution_count": 2,
   "metadata": {},
   "outputs": [],
   "source": [
    "from greenseer.configuration import do_global_configuration\n",
    "from greenseer.dataset.china_dataset import fetch_default_targets, stock_info, TRAIN_SET_ALL, fetch_train_set\n",
    "from greenseer.dataset.china_dataset import fetch_multi_report\n",
    "from logging.config import fileConfig\n",
    "import numpy as np\n",
    "from greenseer.utils.tools import save_fig,save_csv\n",
    "from sklearn.pipeline import Pipeline\n",
    "from greenseer.preprocessing.transformers import regular_expression_column_filter, \\\n",
    "    pick_annual_report_china, append_industry_transform, re_sum_column_transform, re_percent_column_transform, \\\n",
    "    remove_inf_and_na\n",
    "%matplotlib inline\n",
    "import matplotlib.pyplot as plt\n",
    "do_global_configuration(\"config.properties\")\n",
    "fileConfig('logging_config.ini')"
   ]
  },
  {
   "cell_type": "markdown",
   "metadata": {
    "pycharm": {
     "name": "#%% md\n"
    }
   },
   "source": [
    "- 600519：茅台"
   ]
  },
  {
   "cell_type": "code",
   "execution_count": 3,
   "metadata": {},
   "outputs": [],
   "source": [
    "# reports = fetch_multi_report(stock_ids=np.array([\"600519\",\"600520\"]))\n",
    "reports = fetch_train_set(TRAIN_SET_ALL)"
   ]
  },
  {
   "cell_type": "code",
   "execution_count": 4,
   "metadata": {
    "pycharm": {
     "name": "#%%\n"
    }
   },
   "outputs": [],
   "source": [
    "subjects = [r'\\w*应付\\w*|\\w*应收\\w*|存货|货币资金|\\w*生物\\w*|\\w*资产总计\\w*']\n",
    "\n",
    "\n",
    "prepare_pipeline = Pipeline([\n",
    "        ('pick_annual_report', pick_annual_report_china()),\n",
    "        ('pick_subject', regular_expression_column_filter(patterns=subjects,rename={\"资产总计(万元)\":\"base\"})),\n",
    "        ('percent payable', re_percent_column_transform(numerator=[r'\\w*应付\\w*'], denominator=[r'base'],new_name='payable')),\n",
    "        ('percent receivable', re_percent_column_transform(numerator=[r'\\w*应收\\w*'], denominator=[r'base'],new_name='receivable')),\n",
    "        ('append industry',append_industry_transform()),\n",
    "        ('clean data',remove_inf_and_na())\n",
    "])\n",
    "\n",
    "data = prepare_pipeline.fit_transform(reports)"
   ]
  },
  {
   "cell_type": "code",
   "execution_count": 5,
   "metadata": {
    "pycharm": {
     "name": "#%%\n"
    }
   },
   "outputs": [],
   "source": [
    "summary_by_category = data[['industry','receivable','payable',\"base\"]].groupby(\"industry\")\n",
    "mean= summary_by_category.mean()"
   ]
  },
  {
   "cell_type": "code",
   "execution_count": 7,
   "metadata": {
    "pycharm": {
     "name": "#%%\n"
    }
   },
   "outputs": [
    {
     "name": "stdout",
     "output_type": "stream",
     "text": [
      "Saving figure attribute_histogram_plots\n",
      "Saving scv: ./csv/test.csv\n"
     ]
    },
    {
     "data": {
      "text/plain": "<Figure size 432x288 with 4 Axes>",
      "image/png": "[encoded data removed]"
     },
     "metadata": {
      "needs_background": "light"
     },
     "output_type": "display_data"
    }
   ],
   "source": [
    "mean.hist()\n",
    "save_fig(\"attribute_histogram_plots\")\n",
    "save_csv(data=mean,name=\"test\")\n",
    "\n",
    "\n",
    "\n",
    "\n"
   ]
  }
 ],
 "metadata": {
  "kernelspec": {
   "display_name": "Python 3",
   "language": "python",
   "name": "python3"
  },
  "language_info": {
   "codemirror_mode": {
    "name": "ipython",
    "version": 3
   },
   "file_extension": ".py",
   "mimetype": "text/x-python",
   "name": "python",
   "nbconvert_exporter": "python",
   "pygments_lexer": "ipython3",
   "version": "3.7.6"
  }
 },
 "nbformat": 4,
 "nbformat_minor": 2
}