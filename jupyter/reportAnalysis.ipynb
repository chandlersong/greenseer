{
 "cells": [
  {
   "cell_type": "markdown",
   "source": [
    "``` python\n",
    "# if you running at azure nootbook to prepare env\n",
    "#!pip install lxml --ignore-installed lxml\n",
    "#!pip install tushare==1.2.54 \n",
    "```"
   ],
   "metadata": {
    "collapsed": false,
    "pycharm": {
     "name": "#%% md\n"
    }
   }
  },
  {
   "cell_type": "code",
   "execution_count": 148,
   "outputs": [
    {
     "name": "stdout",
     "output_type": "stream",
     "text": [
      "The autoreload extension is already loaded. To reload it, use:\n",
      "  %reload_ext autoreload\n"
     ]
    }
   ],
   "source": [
    "%load_ext autoreload\n",
    "%autoreload 2"
   ],
   "metadata": {
    "collapsed": false,
    "pycharm": {
     "name": "#%%\n"
    }
   }
  },
  {
   "cell_type": "code",
   "execution_count": 149,
   "metadata": {},
   "outputs": [],
   "source": [
    "from greenseer.configuration import do_global_configuration\n",
    "from greenseer.dataset.china_dataset import fetch_default_targets,stock_info\n",
    "from greenseer.dataset.china_dataset import fetch_multi_report\n",
    "from logging.config import fileConfig\n",
    "import numpy as np\n",
    "from sklearn.pipeline import Pipeline\n",
    "from greenseer.preprocessing.transformers import regular_expression_column_filter, \\\n",
    "    pick_annual_report_china, append_industry_transform\n",
    "do_global_configuration(\"config.properties\")\n",
    "fileConfig('logging_config.ini')"
   ]
  },
  {
   "cell_type": "code",
   "execution_count": 150,
   "outputs": [
    {
     "data": {
      "text/plain": "        st\ncode      \n605001   0\n688233   0\n000612   0\n300270   0\n002369   0",
      "text/html": "<div>\n<style scoped>\n    .dataframe tbody tr th:only-of-type {\n        vertical-align: middle;\n    }\n\n    .dataframe tbody tr th {\n        vertical-align: top;\n    }\n\n    .dataframe thead th {\n        text-align: right;\n    }\n</style>\n<table border=\"1\" class=\"dataframe\">\n  <thead>\n    <tr style=\"text-align: right;\">\n      <th></th>\n      <th>st</th>\n    </tr>\n    <tr>\n      <th>code</th>\n      <th></th>\n    </tr>\n  </thead>\n  <tbody>\n    <tr>\n      <th>605001</th>\n      <td>0</td>\n    </tr>\n    <tr>\n      <th>688233</th>\n      <td>0</td>\n    </tr>\n    <tr>\n      <th>000612</th>\n      <td>0</td>\n    </tr>\n    <tr>\n      <th>300270</th>\n      <td>0</td>\n    </tr>\n    <tr>\n      <th>002369</th>\n      <td>0</td>\n    </tr>\n  </tbody>\n</table>\n</div>"
     },
     "execution_count": 150,
     "metadata": {},
     "output_type": "execute_result"
    }
   ],
   "source": [
    "\n",
    "y = fetch_default_targets()\n",
    "y.head(5)"
   ],
   "metadata": {
    "collapsed": false,
    "pycharm": {
     "name": "#%%\n"
    }
   }
  },
  {
   "cell_type": "markdown",
   "source": [
    "- 600519：茅台"
   ],
   "metadata": {
    "collapsed": false,
    "pycharm": {
     "name": "#%% md\n"
    }
   }
  },
  {
   "cell_type": "code",
   "execution_count": 151,
   "metadata": {},
   "outputs": [
    {
     "data": {
      "text/plain": "(114, 242)"
     },
     "execution_count": 151,
     "metadata": {},
     "output_type": "execute_result"
    }
   ],
   "source": [
    "reports = fetch_multi_report(stock_ids=np.array([\"600519\",\"600520\"]))\n",
    "reports.shape"
   ]
  },
  {
   "cell_type": "code",
   "execution_count": 152,
   "outputs": [
    {
     "data": {
      "text/plain": "                   专项应付款(万元)  公益性生物资产(万元)  其他应付款(万元)  其他应收款(万元)  内部应付款(万元)  \\\ncode   release_at                                                            \n600520 2019-12-31        0.0          0.0      494.0        0.0        0.0   \n       2018-12-31        0.0          0.0      402.0        0.0        0.0   \n       2017-12-31        0.0          0.0      456.0      392.0        0.0   \n       2016-12-31        0.0          0.0      396.0      542.0        0.0   \n       2015-12-31      158.0          0.0     1063.0      963.0        0.0   \n       2014-12-31      157.0          0.0      515.0     2175.0        0.0   \n       2013-12-31      115.0          0.0      952.0      878.0        0.0   \n       2012-12-31       49.0          0.0      725.0      902.0        0.0   \n       2011-12-31        0.0          0.0      528.0     1413.0        0.0   \n       2010-12-31        0.0          0.0      993.0      824.0        0.0   \n       2009-12-31        0.0          0.0     1102.0      682.0        0.0   \n       2008-12-31        0.0          0.0      734.0     1042.0        0.0   \n       2007-12-31        0.0          0.0      228.0     1239.0        0.0   \n       2006-12-31        0.0          0.0       18.0     5778.0        0.0   \n600519 2019-12-31        0.0          0.0   314263.0     7654.0        0.0   \n       2018-12-31        0.0          0.0   336200.0     5000.0        0.0   \n       2017-12-31     1557.0          0.0   303995.0     3132.0        0.0   \n       2016-12-31     1557.0          0.0   172464.0     7723.0        0.0   \n       2015-12-31     1557.0          0.0   142314.0     4822.0        0.0   \n       2014-12-31     1777.0          0.0   123189.0     8089.0        0.0   \n       2013-12-31     1777.0          0.0   160469.0    11957.0        0.0   \n       2012-12-31     1777.0          0.0   138998.0    13797.0        0.0   \n       2011-12-31     1677.0          0.0    91612.0     4729.0        0.0   \n       2010-12-31     1000.0          0.0    81888.0     5910.0        0.0   \n       2009-12-31     1000.0          0.0    71083.0     9600.0        0.0   \n       2008-12-31        0.0          0.0    57591.0     8260.0        0.0   \n       2007-12-31        0.0          0.0    42350.0     8611.0        0.0   \n       2006-12-31        0.0          0.0    30003.0     5668.0        0.0   \n\n                   内部应收款(万元)     存货(万元)  应付保证金(万元)  应付债券(万元)  应付分保账款(万元)  ...  \\\ncode   release_at                                                         ...   \n600520 2019-12-31        0.0    11271.0        0.0       0.0         0.0  ...   \n       2018-12-31        0.0     9927.0        0.0       0.0         0.0  ...   \n       2017-12-31        0.0    10489.0        0.0       0.0         0.0  ...   \n       2016-12-31        0.0     9931.0        0.0       0.0         0.0  ...   \n       2015-12-31        0.0     8865.0        0.0       0.0         0.0  ...   \n       2014-12-31        0.0     8891.0        0.0       0.0         0.0  ...   \n       2013-12-31        0.0     9566.0        0.0       0.0         0.0  ...   \n       2012-12-31        0.0     7183.0        0.0       0.0         0.0  ...   \n       2011-12-31        0.0     8462.0        0.0       0.0         0.0  ...   \n       2010-12-31        0.0     7582.0        0.0       0.0         0.0  ...   \n       2009-12-31        0.0     5045.0        0.0       0.0         0.0  ...   \n       2008-12-31        0.0     8749.0        0.0       0.0         0.0  ...   \n       2007-12-31        0.0     9151.0        0.0       0.0         0.0  ...   \n       2006-12-31        0.0    10699.0        0.0       0.0         0.0  ...   \n600519 2019-12-31        0.0  2528492.0        0.0       0.0         0.0  ...   \n       2018-12-31        0.0  2350695.0        0.0       0.0         0.0  ...   \n       2017-12-31        0.0  2205748.0        0.0       0.0         0.0  ...   \n       2016-12-31        0.0  2062225.0        0.0       0.0         0.0  ...   \n       2015-12-31        0.0  1801330.0        0.0       0.0         0.0  ...   \n       2014-12-31        0.0  1498236.0        0.0       0.0         0.0  ...   \n       2013-12-31        0.0  1183681.0        0.0       0.0         0.0  ...   \n       2012-12-31        0.0   966573.0        0.0       0.0         0.0  ...   \n       2011-12-31        0.0   718712.0        0.0       0.0         0.0  ...   \n       2010-12-31        0.0   557413.0        0.0       0.0         0.0  ...   \n       2009-12-31        0.0   419225.0        0.0       0.0         0.0  ...   \n       2008-12-31        0.0   311457.0        0.0       0.0         0.0  ...   \n       2007-12-31        0.0   230482.0        0.0       0.0         0.0  ...   \n       2006-12-31        0.0   198090.0        0.0       0.0         0.0  ...   \n\n                   应收利息(万元)  应收票据(万元)  应收股利(万元)  应收补贴款(万元)  应收账款(万元)  \\\ncode   release_at                                                      \n600520 2019-12-31       0.0     114.0       0.0        0.0    6963.0   \n       2018-12-31       0.0    1192.0       0.0        0.0    8107.0   \n       2017-12-31       0.0    1504.0       0.0        0.0    8598.0   \n       2016-12-31       0.0    1061.0       0.0        0.0    7385.0   \n       2015-12-31       0.0    2194.0       0.0        0.0    9217.0   \n       2014-12-31       0.0    1048.0       0.0        0.0   12701.0   \n       2013-12-31       0.0     754.0       0.0        0.0   11980.0   \n       2012-12-31       0.0    2838.0       0.0        0.0   11949.0   \n       2011-12-31       0.0    1482.0       0.0        0.0   10300.0   \n       2010-12-31       0.0     949.0       0.0        0.0    6458.0   \n       2009-12-31       0.0     634.0       0.0        0.0    6586.0   \n       2008-12-31       0.0    1391.0       0.0        0.0    7104.0   \n       2007-12-31       0.0     967.0       0.0        0.0    7057.0   \n       2006-12-31       0.0     241.0       0.0        0.0    7363.0   \n600519 2019-12-31       0.0  146300.0       0.0        0.0       0.0   \n       2018-12-31   34389.0   56374.0       0.0        0.0       0.0   \n       2017-12-31   24146.0  122171.0       0.0        0.0       0.0   \n       2016-12-31   14090.0   81763.0       0.0        0.0       0.0   \n       2015-12-31    8535.0  857894.0       0.0        0.0      23.0   \n       2014-12-31    8060.0  184784.0       0.0        0.0     431.0   \n       2013-12-31   18860.0   29608.0       0.0        0.0      93.0   \n       2012-12-31   26461.0   20408.0       0.0        0.0    1782.0   \n       2011-12-31   22518.0   25210.0       0.0        0.0     223.0   \n       2010-12-31    4273.0   20481.0       0.0        0.0     125.0   \n       2009-12-31     191.0   38076.0       0.0        0.0    2139.0   \n       2008-12-31     278.0   17061.0       0.0        0.0    3483.0   \n       2007-12-31     358.0   10105.0       0.0        0.0    4641.0   \n       2006-12-31       0.0   18565.0       0.0        0.0    6835.0   \n\n                   生产性生物资产(万元)    货币资金(万元)  长期应付款(万元)  长期应收款(万元)  industry  \ncode   release_at                                                           \n600520 2019-12-31          0.0     26565.0        0.0        0.0      机械基件  \n       2018-12-31          0.0     24405.0        0.0     7000.0      机械基件  \n       2017-12-31          0.0     17699.0        0.0     7000.0      机械基件  \n       2016-12-31          0.0     14886.0        0.0     7000.0      机械基件  \n       2015-12-31          0.0     11441.0        0.0        0.0      机械基件  \n       2014-12-31          0.0     16296.0        0.0        0.0      机械基件  \n       2013-12-31          0.0      5995.0        0.0        0.0      机械基件  \n       2012-12-31          0.0      8120.0        0.0        0.0      机械基件  \n       2011-12-31          0.0      4782.0        0.0        0.0      机械基件  \n       2010-12-31          0.0     10492.0        0.0        0.0      机械基件  \n       2009-12-31          0.0      6648.0        3.0        0.0      机械基件  \n       2008-12-31          0.0      6689.0        3.0        0.0      机械基件  \n       2007-12-31          0.0      4587.0        3.0        0.0      机械基件  \n       2006-12-31          0.0      4645.0        2.0        0.0      机械基件  \n600519 2019-12-31          0.0   1325182.0        0.0        0.0        白酒  \n       2018-12-31          0.0  11207479.0        0.0        0.0        白酒  \n       2017-12-31          0.0   8786887.0        0.0        0.0        白酒  \n       2016-12-31          0.0   6685496.0        0.0        0.0        白酒  \n       2015-12-31          0.0   3680075.0        0.0        0.0        白酒  \n       2014-12-31          0.0   2771072.0        0.0        0.0        白酒  \n       2013-12-31          0.0   2518501.0        0.0        0.0        白酒  \n       2012-12-31          0.0   2206200.0        0.0        0.0        白酒  \n       2011-12-31          0.0   1825469.0        0.0        0.0        白酒  \n       2010-12-31          0.0   1288839.0        0.0        0.0        白酒  \n       2009-12-31          0.0    974315.0        0.0        0.0        白酒  \n       2008-12-31          0.0    809372.0        0.0        0.0        白酒  \n       2007-12-31          0.0    472271.0        0.0        0.0        白酒  \n       2006-12-31          0.0    447422.0        0.0        0.0        白酒  \n\n[28 rows x 32 columns]",
      "text/html": "<div>\n<style scoped>\n    .dataframe tbody tr th:only-of-type {\n        vertical-align: middle;\n    }\n\n    .dataframe tbody tr th {\n        vertical-align: top;\n    }\n\n    .dataframe thead th {\n        text-align: right;\n    }\n</style>\n<table border=\"1\" class=\"dataframe\">\n  <thead>\n    <tr style=\"text-align: right;\">\n      <th></th>\n      <th></th>\n      <th>专项应付款(万元)</th>\n      <th>公益性生物资产(万元)</th>\n      <th>其他应付款(万元)</th>\n      <th>其他应收款(万元)</th>\n      <th>内部应付款(万元)</th>\n      <th>内部应收款(万元)</th>\n      <th>存货(万元)</th>\n      <th>应付保证金(万元)</th>\n      <th>应付债券(万元)</th>\n      <th>应付分保账款(万元)</th>\n      <th>...</th>\n      <th>应收利息(万元)</th>\n      <th>应收票据(万元)</th>\n      <th>应收股利(万元)</th>\n      <th>应收补贴款(万元)</th>\n      <th>应收账款(万元)</th>\n      <th>生产性生物资产(万元)</th>\n      <th>货币资金(万元)</th>\n      <th>长期应付款(万元)</th>\n      <th>长期应收款(万元)</th>\n      <th>industry</th>\n    </tr>\n    <tr>\n      <th>code</th>\n      <th>release_at</th>\n      <th></th>\n      <th></th>\n      <th></th>\n      <th></th>\n      <th></th>\n      <th></th>\n      <th></th>\n      <th></th>\n      <th></th>\n      <th></th>\n      <th></th>\n      <th></th>\n      <th></th>\n      <th></th>\n      <th></th>\n      <th></th>\n      <th></th>\n      <th></th>\n      <th></th>\n      <th></th>\n      <th></th>\n    </tr>\n  </thead>\n  <tbody>\n    <tr>\n      <th rowspan=\"14\" valign=\"top\">600520</th>\n      <th>2019-12-31</th>\n      <td>0.0</td>\n      <td>0.0</td>\n      <td>494.0</td>\n      <td>0.0</td>\n      <td>0.0</td>\n      <td>0.0</td>\n      <td>11271.0</td>\n      <td>0.0</td>\n      <td>0.0</td>\n      <td>0.0</td>\n      <td>...</td>\n      <td>0.0</td>\n      <td>114.0</td>\n      <td>0.0</td>\n      <td>0.0</td>\n      <td>6963.0</td>\n      <td>0.0</td>\n      <td>26565.0</td>\n      <td>0.0</td>\n      <td>0.0</td>\n      <td>机械基件</td>\n    </tr>\n    <tr>\n      <th>2018-12-31</th>\n      <td>0.0</td>\n      <td>0.0</td>\n      <td>402.0</td>\n      <td>0.0</td>\n      <td>0.0</td>\n      <td>0.0</td>\n      <td>9927.0</td>\n      <td>0.0</td>\n      <td>0.0</td>\n      <td>0.0</td>\n      <td>...</td>\n      <td>0.0</td>\n      <td>1192.0</td>\n      <td>0.0</td>\n      <td>0.0</td>\n      <td>8107.0</td>\n      <td>0.0</td>\n      <td>24405.0</td>\n      <td>0.0</td>\n      <td>7000.0</td>\n      <td>机械基件</td>\n    </tr>\n    <tr>\n      <th>2017-12-31</th>\n      <td>0.0</td>\n      <td>0.0</td>\n      <td>456.0</td>\n      <td>392.0</td>\n      <td>0.0</td>\n      <td>0.0</td>\n      <td>10489.0</td>\n      <td>0.0</td>\n      <td>0.0</td>\n      <td>0.0</td>\n      <td>...</td>\n      <td>0.0</td>\n      <td>1504.0</td>\n      <td>0.0</td>\n      <td>0.0</td>\n      <td>8598.0</td>\n      <td>0.0</td>\n      <td>17699.0</td>\n      <td>0.0</td>\n      <td>7000.0</td>\n      <td>机械基件</td>\n    </tr>\n    <tr>\n      <th>2016-12-31</th>\n      <td>0.0</td>\n      <td>0.0</td>\n      <td>396.0</td>\n      <td>542.0</td>\n      <td>0.0</td>\n      <td>0.0</td>\n      <td>9931.0</td>\n      <td>0.0</td>\n      <td>0.0</td>\n      <td>0.0</td>\n      <td>...</td>\n      <td>0.0</td>\n      <td>1061.0</td>\n      <td>0.0</td>\n      <td>0.0</td>\n      <td>7385.0</td>\n      <td>0.0</td>\n      <td>14886.0</td>\n      <td>0.0</td>\n      <td>7000.0</td>\n      <td>机械基件</td>\n    </tr>\n    <tr>\n      <th>2015-12-31</th>\n      <td>158.0</td>\n      <td>0.0</td>\n      <td>1063.0</td>\n      <td>963.0</td>\n      <td>0.0</td>\n      <td>0.0</td>\n      <td>8865.0</td>\n      <td>0.0</td>\n      <td>0.0</td>\n      <td>0.0</td>\n      <td>...</td>\n      <td>0.0</td>\n      <td>2194.0</td>\n      <td>0.0</td>\n      <td>0.0</td>\n      <td>9217.0</td>\n      <td>0.0</td>\n      <td>11441.0</td>\n      <td>0.0</td>\n      <td>0.0</td>\n      <td>机械基件</td>\n    </tr>\n    <tr>\n      <th>2014-12-31</th>\n      <td>157.0</td>\n      <td>0.0</td>\n      <td>515.0</td>\n      <td>2175.0</td>\n      <td>0.0</td>\n      <td>0.0</td>\n      <td>8891.0</td>\n      <td>0.0</td>\n      <td>0.0</td>\n      <td>0.0</td>\n      <td>...</td>\n      <td>0.0</td>\n      <td>1048.0</td>\n      <td>0.0</td>\n      <td>0.0</td>\n      <td>12701.0</td>\n      <td>0.0</td>\n      <td>16296.0</td>\n      <td>0.0</td>\n      <td>0.0</td>\n      <td>机械基件</td>\n    </tr>\n    <tr>\n      <th>2013-12-31</th>\n      <td>115.0</td>\n      <td>0.0</td>\n      <td>952.0</td>\n      <td>878.0</td>\n      <td>0.0</td>\n      <td>0.0</td>\n      <td>9566.0</td>\n      <td>0.0</td>\n      <td>0.0</td>\n      <td>0.0</td>\n      <td>...</td>\n      <td>0.0</td>\n      <td>754.0</td>\n      <td>0.0</td>\n      <td>0.0</td>\n      <td>11980.0</td>\n      <td>0.0</td>\n      <td>5995.0</td>\n      <td>0.0</td>\n      <td>0.0</td>\n      <td>机械基件</td>\n    </tr>\n    <tr>\n      <th>2012-12-31</th>\n      <td>49.0</td>\n      <td>0.0</td>\n      <td>725.0</td>\n      <td>902.0</td>\n      <td>0.0</td>\n      <td>0.0</td>\n      <td>7183.0</td>\n      <td>0.0</td>\n      <td>0.0</td>\n      <td>0.0</td>\n      <td>...</td>\n      <td>0.0</td>\n      <td>2838.0</td>\n      <td>0.0</td>\n      <td>0.0</td>\n      <td>11949.0</td>\n      <td>0.0</td>\n      <td>8120.0</td>\n      <td>0.0</td>\n      <td>0.0</td>\n      <td>机械基件</td>\n    </tr>\n    <tr>\n      <th>2011-12-31</th>\n      <td>0.0</td>\n      <td>0.0</td>\n      <td>528.0</td>\n      <td>1413.0</td>\n      <td>0.0</td>\n      <td>0.0</td>\n      <td>8462.0</td>\n      <td>0.0</td>\n      <td>0.0</td>\n      <td>0.0</td>\n      <td>...</td>\n      <td>0.0</td>\n      <td>1482.0</td>\n      <td>0.0</td>\n      <td>0.0</td>\n      <td>10300.0</td>\n      <td>0.0</td>\n      <td>4782.0</td>\n      <td>0.0</td>\n      <td>0.0</td>\n      <td>机械基件</td>\n    </tr>\n    <tr>\n      <th>2010-12-31</th>\n      <td>0.0</td>\n      <td>0.0</td>\n      <td>993.0</td>\n      <td>824.0</td>\n      <td>0.0</td>\n      <td>0.0</td>\n      <td>7582.0</td>\n      <td>0.0</td>\n      <td>0.0</td>\n      <td>0.0</td>\n      <td>...</td>\n      <td>0.0</td>\n      <td>949.0</td>\n      <td>0.0</td>\n      <td>0.0</td>\n      <td>6458.0</td>\n      <td>0.0</td>\n      <td>10492.0</td>\n      <td>0.0</td>\n      <td>0.0</td>\n      <td>机械基件</td>\n    </tr>\n    <tr>\n      <th>2009-12-31</th>\n      <td>0.0</td>\n      <td>0.0</td>\n      <td>1102.0</td>\n      <td>682.0</td>\n      <td>0.0</td>\n      <td>0.0</td>\n      <td>5045.0</td>\n      <td>0.0</td>\n      <td>0.0</td>\n      <td>0.0</td>\n      <td>...</td>\n      <td>0.0</td>\n      <td>634.0</td>\n      <td>0.0</td>\n      <td>0.0</td>\n      <td>6586.0</td>\n      <td>0.0</td>\n      <td>6648.0</td>\n      <td>3.0</td>\n      <td>0.0</td>\n      <td>机械基件</td>\n    </tr>\n    <tr>\n      <th>2008-12-31</th>\n      <td>0.0</td>\n      <td>0.0</td>\n      <td>734.0</td>\n      <td>1042.0</td>\n      <td>0.0</td>\n      <td>0.0</td>\n      <td>8749.0</td>\n      <td>0.0</td>\n      <td>0.0</td>\n      <td>0.0</td>\n      <td>...</td>\n      <td>0.0</td>\n      <td>1391.0</td>\n      <td>0.0</td>\n      <td>0.0</td>\n      <td>7104.0</td>\n      <td>0.0</td>\n      <td>6689.0</td>\n      <td>3.0</td>\n      <td>0.0</td>\n      <td>机械基件</td>\n    </tr>\n    <tr>\n      <th>2007-12-31</th>\n      <td>0.0</td>\n      <td>0.0</td>\n      <td>228.0</td>\n      <td>1239.0</td>\n      <td>0.0</td>\n      <td>0.0</td>\n      <td>9151.0</td>\n      <td>0.0</td>\n      <td>0.0</td>\n      <td>0.0</td>\n      <td>...</td>\n      <td>0.0</td>\n      <td>967.0</td>\n      <td>0.0</td>\n      <td>0.0</td>\n      <td>7057.0</td>\n      <td>0.0</td>\n      <td>4587.0</td>\n      <td>3.0</td>\n      <td>0.0</td>\n      <td>机械基件</td>\n    </tr>\n    <tr>\n      <th>2006-12-31</th>\n      <td>0.0</td>\n      <td>0.0</td>\n      <td>18.0</td>\n      <td>5778.0</td>\n      <td>0.0</td>\n      <td>0.0</td>\n      <td>10699.0</td>\n      <td>0.0</td>\n      <td>0.0</td>\n      <td>0.0</td>\n      <td>...</td>\n      <td>0.0</td>\n      <td>241.0</td>\n      <td>0.0</td>\n      <td>0.0</td>\n      <td>7363.0</td>\n      <td>0.0</td>\n      <td>4645.0</td>\n      <td>2.0</td>\n      <td>0.0</td>\n      <td>机械基件</td>\n    </tr>\n    <tr>\n      <th rowspan=\"14\" valign=\"top\">600519</th>\n      <th>2019-12-31</th>\n      <td>0.0</td>\n      <td>0.0</td>\n      <td>314263.0</td>\n      <td>7654.0</td>\n      <td>0.0</td>\n      <td>0.0</td>\n      <td>2528492.0</td>\n      <td>0.0</td>\n      <td>0.0</td>\n      <td>0.0</td>\n      <td>...</td>\n      <td>0.0</td>\n      <td>146300.0</td>\n      <td>0.0</td>\n      <td>0.0</td>\n      <td>0.0</td>\n      <td>0.0</td>\n      <td>1325182.0</td>\n      <td>0.0</td>\n      <td>0.0</td>\n      <td>白酒</td>\n    </tr>\n    <tr>\n      <th>2018-12-31</th>\n      <td>0.0</td>\n      <td>0.0</td>\n      <td>336200.0</td>\n      <td>5000.0</td>\n      <td>0.0</td>\n      <td>0.0</td>\n      <td>2350695.0</td>\n      <td>0.0</td>\n      <td>0.0</td>\n      <td>0.0</td>\n      <td>...</td>\n      <td>34389.0</td>\n      <td>56374.0</td>\n      <td>0.0</td>\n      <td>0.0</td>\n      <td>0.0</td>\n      <td>0.0</td>\n      <td>11207479.0</td>\n      <td>0.0</td>\n      <td>0.0</td>\n      <td>白酒</td>\n    </tr>\n    <tr>\n      <th>2017-12-31</th>\n      <td>1557.0</td>\n      <td>0.0</td>\n      <td>303995.0</td>\n      <td>3132.0</td>\n      <td>0.0</td>\n      <td>0.0</td>\n      <td>2205748.0</td>\n      <td>0.0</td>\n      <td>0.0</td>\n      <td>0.0</td>\n      <td>...</td>\n      <td>24146.0</td>\n      <td>122171.0</td>\n      <td>0.0</td>\n      <td>0.0</td>\n      <td>0.0</td>\n      <td>0.0</td>\n      <td>8786887.0</td>\n      <td>0.0</td>\n      <td>0.0</td>\n      <td>白酒</td>\n    </tr>\n    <tr>\n      <th>2016-12-31</th>\n      <td>1557.0</td>\n      <td>0.0</td>\n      <td>172464.0</td>\n      <td>7723.0</td>\n      <td>0.0</td>\n      <td>0.0</td>\n      <td>2062225.0</td>\n      <td>0.0</td>\n      <td>0.0</td>\n      <td>0.0</td>\n      <td>...</td>\n      <td>14090.0</td>\n      <td>81763.0</td>\n      <td>0.0</td>\n      <td>0.0</td>\n      <td>0.0</td>\n      <td>0.0</td>\n      <td>6685496.0</td>\n      <td>0.0</td>\n      <td>0.0</td>\n      <td>白酒</td>\n    </tr>\n    <tr>\n      <th>2015-12-31</th>\n      <td>1557.0</td>\n      <td>0.0</td>\n      <td>142314.0</td>\n      <td>4822.0</td>\n      <td>0.0</td>\n      <td>0.0</td>\n      <td>1801330.0</td>\n      <td>0.0</td>\n      <td>0.0</td>\n      <td>0.0</td>\n      <td>...</td>\n      <td>8535.0</td>\n      <td>857894.0</td>\n      <td>0.0</td>\n      <td>0.0</td>\n      <td>23.0</td>\n      <td>0.0</td>\n      <td>3680075.0</td>\n      <td>0.0</td>\n      <td>0.0</td>\n      <td>白酒</td>\n    </tr>\n    <tr>\n      <th>2014-12-31</th>\n      <td>1777.0</td>\n      <td>0.0</td>\n      <td>123189.0</td>\n      <td>8089.0</td>\n      <td>0.0</td>\n      <td>0.0</td>\n      <td>1498236.0</td>\n      <td>0.0</td>\n      <td>0.0</td>\n      <td>0.0</td>\n      <td>...</td>\n      <td>8060.0</td>\n      <td>184784.0</td>\n      <td>0.0</td>\n      <td>0.0</td>\n      <td>431.0</td>\n      <td>0.0</td>\n      <td>2771072.0</td>\n      <td>0.0</td>\n      <td>0.0</td>\n      <td>白酒</td>\n    </tr>\n    <tr>\n      <th>2013-12-31</th>\n      <td>1777.0</td>\n      <td>0.0</td>\n      <td>160469.0</td>\n      <td>11957.0</td>\n      <td>0.0</td>\n      <td>0.0</td>\n      <td>1183681.0</td>\n      <td>0.0</td>\n      <td>0.0</td>\n      <td>0.0</td>\n      <td>...</td>\n      <td>18860.0</td>\n      <td>29608.0</td>\n      <td>0.0</td>\n      <td>0.0</td>\n      <td>93.0</td>\n      <td>0.0</td>\n      <td>2518501.0</td>\n      <td>0.0</td>\n      <td>0.0</td>\n      <td>白酒</td>\n    </tr>\n    <tr>\n      <th>2012-12-31</th>\n      <td>1777.0</td>\n      <td>0.0</td>\n      <td>138998.0</td>\n      <td>13797.0</td>\n      <td>0.0</td>\n      <td>0.0</td>\n      <td>966573.0</td>\n      <td>0.0</td>\n      <td>0.0</td>\n      <td>0.0</td>\n      <td>...</td>\n      <td>26461.0</td>\n      <td>20408.0</td>\n      <td>0.0</td>\n      <td>0.0</td>\n      <td>1782.0</td>\n      <td>0.0</td>\n      <td>2206200.0</td>\n      <td>0.0</td>\n      <td>0.0</td>\n      <td>白酒</td>\n    </tr>\n    <tr>\n      <th>2011-12-31</th>\n      <td>1677.0</td>\n      <td>0.0</td>\n      <td>91612.0</td>\n      <td>4729.0</td>\n      <td>0.0</td>\n      <td>0.0</td>\n      <td>718712.0</td>\n      <td>0.0</td>\n      <td>0.0</td>\n      <td>0.0</td>\n      <td>...</td>\n      <td>22518.0</td>\n      <td>25210.0</td>\n      <td>0.0</td>\n      <td>0.0</td>\n      <td>223.0</td>\n      <td>0.0</td>\n      <td>1825469.0</td>\n      <td>0.0</td>\n      <td>0.0</td>\n      <td>白酒</td>\n    </tr>\n    <tr>\n      <th>2010-12-31</th>\n      <td>1000.0</td>\n      <td>0.0</td>\n      <td>81888.0</td>\n      <td>5910.0</td>\n      <td>0.0</td>\n      <td>0.0</td>\n      <td>557413.0</td>\n      <td>0.0</td>\n      <td>0.0</td>\n      <td>0.0</td>\n      <td>...</td>\n      <td>4273.0</td>\n      <td>20481.0</td>\n      <td>0.0</td>\n      <td>0.0</td>\n      <td>125.0</td>\n      <td>0.0</td>\n      <td>1288839.0</td>\n      <td>0.0</td>\n      <td>0.0</td>\n      <td>白酒</td>\n    </tr>\n    <tr>\n      <th>2009-12-31</th>\n      <td>1000.0</td>\n      <td>0.0</td>\n      <td>71083.0</td>\n      <td>9600.0</td>\n      <td>0.0</td>\n      <td>0.0</td>\n      <td>419225.0</td>\n      <td>0.0</td>\n      <td>0.0</td>\n      <td>0.0</td>\n      <td>...</td>\n      <td>191.0</td>\n      <td>38076.0</td>\n      <td>0.0</td>\n      <td>0.0</td>\n      <td>2139.0</td>\n      <td>0.0</td>\n      <td>974315.0</td>\n      <td>0.0</td>\n      <td>0.0</td>\n      <td>白酒</td>\n    </tr>\n    <tr>\n      <th>2008-12-31</th>\n      <td>0.0</td>\n      <td>0.0</td>\n      <td>57591.0</td>\n      <td>8260.0</td>\n      <td>0.0</td>\n      <td>0.0</td>\n      <td>311457.0</td>\n      <td>0.0</td>\n      <td>0.0</td>\n      <td>0.0</td>\n      <td>...</td>\n      <td>278.0</td>\n      <td>17061.0</td>\n      <td>0.0</td>\n      <td>0.0</td>\n      <td>3483.0</td>\n      <td>0.0</td>\n      <td>809372.0</td>\n      <td>0.0</td>\n      <td>0.0</td>\n      <td>白酒</td>\n    </tr>\n    <tr>\n      <th>2007-12-31</th>\n      <td>0.0</td>\n      <td>0.0</td>\n      <td>42350.0</td>\n      <td>8611.0</td>\n      <td>0.0</td>\n      <td>0.0</td>\n      <td>230482.0</td>\n      <td>0.0</td>\n      <td>0.0</td>\n      <td>0.0</td>\n      <td>...</td>\n      <td>358.0</td>\n      <td>10105.0</td>\n      <td>0.0</td>\n      <td>0.0</td>\n      <td>4641.0</td>\n      <td>0.0</td>\n      <td>472271.0</td>\n      <td>0.0</td>\n      <td>0.0</td>\n      <td>白酒</td>\n    </tr>\n    <tr>\n      <th>2006-12-31</th>\n      <td>0.0</td>\n      <td>0.0</td>\n      <td>30003.0</td>\n      <td>5668.0</td>\n      <td>0.0</td>\n      <td>0.0</td>\n      <td>198090.0</td>\n      <td>0.0</td>\n      <td>0.0</td>\n      <td>0.0</td>\n      <td>...</td>\n      <td>0.0</td>\n      <td>18565.0</td>\n      <td>0.0</td>\n      <td>0.0</td>\n      <td>6835.0</td>\n      <td>0.0</td>\n      <td>447422.0</td>\n      <td>0.0</td>\n      <td>0.0</td>\n      <td>白酒</td>\n    </tr>\n  </tbody>\n</table>\n<p>28 rows × 32 columns</p>\n</div>"
     },
     "execution_count": 152,
     "metadata": {},
     "output_type": "execute_result"
    }
   ],
   "source": [
    "subjects = [r'\\w*应付\\w*|\\w*应收\\w*|存货|货币资金|\\w*生物\\w*']\n",
    "\n",
    "\n",
    "prepare_pipeline = Pipeline([\n",
    "        ('pick_annual_report', pick_annual_report_china()),\n",
    "        ('pick_subject', regular_expression_column_filter(patterns=subjects)),\n",
    "        ('append industry',append_industry_transform()),\n",
    "])\n",
    "\n",
    "data = prepare_pipeline.fit_transform(reports)\n",
    "data"
   ],
   "metadata": {
    "collapsed": false,
    "pycharm": {
     "name": "#%%\n"
    }
   }
  },
  {
   "cell_type": "code",
   "execution_count": 153,
   "outputs": [
    {
     "data": {
      "text/plain": "         专项应付款(万元)                                                             \\\n             count        mean         std  min  25%     50%      75%     max   \nindustry                                                                        \n机械基件          14.0   34.214286   61.300243  0.0  0.0     0.0    36.75   158.0   \n白酒            14.0  977.071429  793.866048  0.0  0.0  1278.5  1647.00  1777.0   \n\n         公益性生物资产(万元)       ... 长期应付款(万元)      长期应收款(万元)                       \\\n               count mean  ...       75%  max     count    mean          std   \nindustry                   ...                                                 \n机械基件            14.0  0.0  ...       1.5  3.0      14.0  1500.0  2980.707195   \n白酒              14.0  0.0  ...       0.0  0.0      14.0     0.0     0.000000   \n\n                                      \n          min  25%  50%  75%     max  \nindustry                              \n机械基件      0.0  0.0  0.0  0.0  7000.0  \n白酒        0.0  0.0  0.0  0.0     0.0  \n\n[2 rows x 248 columns]",
      "text/html": "<div>\n<style scoped>\n    .dataframe tbody tr th:only-of-type {\n        vertical-align: middle;\n    }\n\n    .dataframe tbody tr th {\n        vertical-align: top;\n    }\n\n    .dataframe thead tr th {\n        text-align: left;\n    }\n\n    .dataframe thead tr:last-of-type th {\n        text-align: right;\n    }\n</style>\n<table border=\"1\" class=\"dataframe\">\n  <thead>\n    <tr>\n      <th></th>\n      <th colspan=\"8\" halign=\"left\">专项应付款(万元)</th>\n      <th colspan=\"2\" halign=\"left\">公益性生物资产(万元)</th>\n      <th>...</th>\n      <th colspan=\"2\" halign=\"left\">长期应付款(万元)</th>\n      <th colspan=\"8\" halign=\"left\">长期应收款(万元)</th>\n    </tr>\n    <tr>\n      <th></th>\n      <th>count</th>\n      <th>mean</th>\n      <th>std</th>\n      <th>min</th>\n      <th>25%</th>\n      <th>50%</th>\n      <th>75%</th>\n      <th>max</th>\n      <th>count</th>\n      <th>mean</th>\n      <th>...</th>\n      <th>75%</th>\n      <th>max</th>\n      <th>count</th>\n      <th>mean</th>\n      <th>std</th>\n      <th>min</th>\n      <th>25%</th>\n      <th>50%</th>\n      <th>75%</th>\n      <th>max</th>\n    </tr>\n    <tr>\n      <th>industry</th>\n      <th></th>\n      <th></th>\n      <th></th>\n      <th></th>\n      <th></th>\n      <th></th>\n      <th></th>\n      <th></th>\n      <th></th>\n      <th></th>\n      <th></th>\n      <th></th>\n      <th></th>\n      <th></th>\n      <th></th>\n      <th></th>\n      <th></th>\n      <th></th>\n      <th></th>\n      <th></th>\n      <th></th>\n    </tr>\n  </thead>\n  <tbody>\n    <tr>\n      <th>机械基件</th>\n      <td>14.0</td>\n      <td>34.214286</td>\n      <td>61.300243</td>\n      <td>0.0</td>\n      <td>0.0</td>\n      <td>0.0</td>\n      <td>36.75</td>\n      <td>158.0</td>\n      <td>14.0</td>\n      <td>0.0</td>\n      <td>...</td>\n      <td>1.5</td>\n      <td>3.0</td>\n      <td>14.0</td>\n      <td>1500.0</td>\n      <td>2980.707195</td>\n      <td>0.0</td>\n      <td>0.0</td>\n      <td>0.0</td>\n      <td>0.0</td>\n      <td>7000.0</td>\n    </tr>\n    <tr>\n      <th>白酒</th>\n      <td>14.0</td>\n      <td>977.071429</td>\n      <td>793.866048</td>\n      <td>0.0</td>\n      <td>0.0</td>\n      <td>1278.5</td>\n      <td>1647.00</td>\n      <td>1777.0</td>\n      <td>14.0</td>\n      <td>0.0</td>\n      <td>...</td>\n      <td>0.0</td>\n      <td>0.0</td>\n      <td>14.0</td>\n      <td>0.0</td>\n      <td>0.000000</td>\n      <td>0.0</td>\n      <td>0.0</td>\n      <td>0.0</td>\n      <td>0.0</td>\n      <td>0.0</td>\n    </tr>\n  </tbody>\n</table>\n<p>2 rows × 248 columns</p>\n</div>"
     },
     "execution_count": 153,
     "metadata": {},
     "output_type": "execute_result"
    }
   ],
   "source": [
    "summary_by_category = data.groupby(\"industry\")\n",
    "summary_by_category.describe()"
   ],
   "metadata": {
    "collapsed": false,
    "pycharm": {
     "name": "#%%\n"
    }
   }
  }
 ],
 "metadata": {
  "kernelspec": {
   "display_name": "Python 3",
   "language": "python",
   "name": "python3"
  },
  "language_info": {
   "codemirror_mode": {
    "name": "ipython",
    "version": 3
   },
   "file_extension": ".py",
   "mimetype": "text/x-python",
   "name": "python",
   "nbconvert_exporter": "python",
   "pygments_lexer": "ipython3",
   "version": "3.5.2"
  }
 },
 "nbformat": 4,
 "nbformat_minor": 2
}