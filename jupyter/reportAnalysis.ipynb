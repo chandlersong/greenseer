{
 "cells": [
  {
   "cell_type": "markdown",
   "source": [
    "``` python\n",
    "# if you running at azure nootbook to prepare env\n",
    "#!pip install lxml --ignore-installed lxml\n",
    "#!pip install tushare==1.2.54 \n",
    "```"
   ],
   "metadata": {
    "collapsed": false,
    "pycharm": {
     "name": "#%% md\n"
    }
   }
  },
  {
   "cell_type": "code",
   "execution_count": 1,
   "outputs": [],
   "source": [
    "%load_ext autoreload\n",
    "%autoreload 2"
   ],
   "metadata": {
    "collapsed": false,
    "pycharm": {
     "name": "#%%\n"
    }
   }
  },
  {
   "cell_type": "code",
   "execution_count": 2,
   "metadata": {},
   "outputs": [],
   "source": [
    "from greenseer.configuration import do_global_configuration\n",
    "do_global_configuration(\"config.properties\")"
   ]
  },
  {
   "cell_type": "code",
   "execution_count": 3,
   "outputs": [
    {
     "data": {
      "text/plain": "        st\ncode      \n002978   0\n002981   0\n002472   0\n002480   0\n603105   0",
      "text/html": "<div>\n<style scoped>\n    .dataframe tbody tr th:only-of-type {\n        vertical-align: middle;\n    }\n\n    .dataframe tbody tr th {\n        vertical-align: top;\n    }\n\n    .dataframe thead th {\n        text-align: right;\n    }\n</style>\n<table border=\"1\" class=\"dataframe\">\n  <thead>\n    <tr style=\"text-align: right;\">\n      <th></th>\n      <th>st</th>\n    </tr>\n    <tr>\n      <th>code</th>\n      <th></th>\n    </tr>\n  </thead>\n  <tbody>\n    <tr>\n      <th>002978</th>\n      <td>0</td>\n    </tr>\n    <tr>\n      <th>002981</th>\n      <td>0</td>\n    </tr>\n    <tr>\n      <th>002472</th>\n      <td>0</td>\n    </tr>\n    <tr>\n      <th>002480</th>\n      <td>0</td>\n    </tr>\n    <tr>\n      <th>603105</th>\n      <td>0</td>\n    </tr>\n  </tbody>\n</table>\n</div>"
     },
     "execution_count": 3,
     "metadata": {},
     "output_type": "execute_result"
    }
   ],
   "source": [
    "from greenseer.dataset.china_dataset import fetch_default_targets\n",
    "\n",
    "y = fetch_default_targets()\n",
    "y.head(5)"
   ],
   "metadata": {
    "collapsed": false,
    "pycharm": {
     "name": "#%%\n"
    }
   }
  },
  {
   "cell_type": "markdown",
   "source": [
    "- 600519：茅台"
   ],
   "metadata": {
    "collapsed": false,
    "pycharm": {
     "name": "#%% md\n"
    }
   }
  },
  {
   "cell_type": "code",
   "execution_count": 4,
   "metadata": {},
   "outputs": [
    {
     "data": {
      "text/plain": "(110, 242)"
     },
     "execution_count": 4,
     "metadata": {},
     "output_type": "execute_result"
    }
   ],
   "source": [
    "from greenseer.dataset.china_dataset import fetch_multi_report, fetch_train_set\n",
    "from logging.config import fileConfig\n",
    "import numpy as np\n",
    "fileConfig('logging_config.ini')\n",
    "reports = fetch_multi_report(stock_ids=np.array([\"600519\",\"600520\"]))\n",
    "reports.shape"
   ]
  },
  {
   "cell_type": "code",
   "execution_count": null,
   "outputs": [],
   "source": [
    "train_set,test_set = fetch_train_set()\n",
    "train_set.shape,test_set.shape"
   ],
   "metadata": {
    "collapsed": false,
    "pycharm": {
     "name": "#%%\n",
     "is_executing": true
    }
   }
  }
 ],
 "metadata": {
  "kernelspec": {
   "display_name": "Python 3",
   "language": "python",
   "name": "python3"
  },
  "language_info": {
   "codemirror_mode": {
    "name": "ipython",
    "version": 3
   },
   "file_extension": ".py",
   "mimetype": "text/x-python",
   "name": "python",
   "nbconvert_exporter": "python",
   "pygments_lexer": "ipython3",
   "version": "3.5.2"
  }
 },
 "nbformat": 4,
 "nbformat_minor": 2
}