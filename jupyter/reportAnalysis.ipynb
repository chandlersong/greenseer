{
 "cells": [
  {
   "cell_type": "code",
   "execution_count": 1,
   "outputs": [],
   "source": [
    "%load_ext autoreload\n",
    "%autoreload 2"
   ],
   "metadata": {
    "collapsed": false,
    "pycharm": {
     "name": "#%%\n",
     "is_executing": false
    }
   }
  },
  {
   "cell_type": "code",
   "execution_count": 2,
   "metadata": {
    "pycharm": {
     "is_executing": false
    }
   },
   "outputs": [],
   "source": [
    "from greenseer.configuration import do_global_configuration\n",
    "do_global_configuration(\"config.properties\")"
   ]
  },
  {
   "cell_type": "code",
   "execution_count": 5,
   "metadata": {
    "pycharm": {
     "is_executing": false
    }
   },
   "outputs": [
    {
     "data": {
      "text/plain": "                        2019-09-30  2019-06-30  2019-03-31  2018-12-31  \\\nassert 一年内到期的非流动负债(万元)         0.0         0.0         0.0         0.0   \n       一年内到期的非流动资产(万元)         0.0         0.0         0.0         0.0   \n       一般风险准备(万元)          78830.0     78830.0     78830.0     78830.0   \n       专项储备(万元)                0.0         0.0         0.0         0.0   \n       专项应付款(万元)               0.0         0.0         0.0         0.0   \n\n                        2018-09-30  2018-06-30  2018-03-31  2017-12-31  \\\nassert 一年内到期的非流动负债(万元)         0.0         0.0         0.0         0.0   \n       一年内到期的非流动资产(万元)         0.0         0.0         0.0         0.0   \n       一般风险准备(万元)          60086.0     60086.0     60086.0     60086.0   \n       专项储备(万元)                0.0         0.0         0.0         0.0   \n       专项应付款(万元)               0.0      1557.0      1557.0      1557.0   \n\n                        2017-09-30  2017-06-30  ...  2008-06-30  2008-03-31  \\\nassert 一年内到期的非流动负债(万元)         0.0         0.0  ...         0.0         0.0   \n       一年内到期的非流动资产(万元)         0.0         0.0  ...         0.0         0.0   \n       一般风险准备(万元)          42076.0     42076.0  ...         0.0         0.0   \n       专项储备(万元)                0.0         0.0  ...         0.0         0.0   \n       专项应付款(万元)            1557.0      1557.0  ...         0.0         0.0   \n\n                        2007-12-31  2007-09-30  2007-06-30  2007-03-31  \\\nassert 一年内到期的非流动负债(万元)         0.0         0.0         0.0         0.0   \n       一年内到期的非流动资产(万元)         0.0         0.0         0.0         0.0   \n       一般风险准备(万元)              0.0         0.0         0.0         0.0   \n       专项储备(万元)                0.0         0.0         0.0         0.0   \n       专项应付款(万元)               0.0         0.0         0.0         0.0   \n\n                        2006-12-31  2006-09-30  2006-06-30  2006-03-31  \nassert 一年内到期的非流动负债(万元)         0.0         NaN         NaN         NaN  \n       一年内到期的非流动资产(万元)         0.0         NaN         NaN         NaN  \n       一般风险准备(万元)              0.0         NaN         NaN         NaN  \n       专项储备(万元)                0.0         NaN         NaN         NaN  \n       专项应付款(万元)               0.0         NaN         NaN         NaN  \n\n[5 rows x 55 columns]",
      "text/html": "<div>\n<style scoped>\n    .dataframe tbody tr th:only-of-type {\n        vertical-align: middle;\n    }\n\n    .dataframe tbody tr th {\n        vertical-align: top;\n    }\n\n    .dataframe thead th {\n        text-align: right;\n    }\n</style>\n<table border=\"1\" class=\"dataframe\">\n  <thead>\n    <tr style=\"text-align: right;\">\n      <th></th>\n      <th></th>\n      <th>2019-09-30</th>\n      <th>2019-06-30</th>\n      <th>2019-03-31</th>\n      <th>2018-12-31</th>\n      <th>2018-09-30</th>\n      <th>2018-06-30</th>\n      <th>2018-03-31</th>\n      <th>2017-12-31</th>\n      <th>2017-09-30</th>\n      <th>2017-06-30</th>\n      <th>...</th>\n      <th>2008-06-30</th>\n      <th>2008-03-31</th>\n      <th>2007-12-31</th>\n      <th>2007-09-30</th>\n      <th>2007-06-30</th>\n      <th>2007-03-31</th>\n      <th>2006-12-31</th>\n      <th>2006-09-30</th>\n      <th>2006-06-30</th>\n      <th>2006-03-31</th>\n    </tr>\n  </thead>\n  <tbody>\n    <tr>\n      <th rowspan=\"5\" valign=\"top\">assert</th>\n      <th>一年内到期的非流动负债(万元)</th>\n      <td>0.0</td>\n      <td>0.0</td>\n      <td>0.0</td>\n      <td>0.0</td>\n      <td>0.0</td>\n      <td>0.0</td>\n      <td>0.0</td>\n      <td>0.0</td>\n      <td>0.0</td>\n      <td>0.0</td>\n      <td>...</td>\n      <td>0.0</td>\n      <td>0.0</td>\n      <td>0.0</td>\n      <td>0.0</td>\n      <td>0.0</td>\n      <td>0.0</td>\n      <td>0.0</td>\n      <td>NaN</td>\n      <td>NaN</td>\n      <td>NaN</td>\n    </tr>\n    <tr>\n      <th>一年内到期的非流动资产(万元)</th>\n      <td>0.0</td>\n      <td>0.0</td>\n      <td>0.0</td>\n      <td>0.0</td>\n      <td>0.0</td>\n      <td>0.0</td>\n      <td>0.0</td>\n      <td>0.0</td>\n      <td>0.0</td>\n      <td>0.0</td>\n      <td>...</td>\n      <td>0.0</td>\n      <td>0.0</td>\n      <td>0.0</td>\n      <td>0.0</td>\n      <td>0.0</td>\n      <td>0.0</td>\n      <td>0.0</td>\n      <td>NaN</td>\n      <td>NaN</td>\n      <td>NaN</td>\n    </tr>\n    <tr>\n      <th>一般风险准备(万元)</th>\n      <td>78830.0</td>\n      <td>78830.0</td>\n      <td>78830.0</td>\n      <td>78830.0</td>\n      <td>60086.0</td>\n      <td>60086.0</td>\n      <td>60086.0</td>\n      <td>60086.0</td>\n      <td>42076.0</td>\n      <td>42076.0</td>\n      <td>...</td>\n      <td>0.0</td>\n      <td>0.0</td>\n      <td>0.0</td>\n      <td>0.0</td>\n      <td>0.0</td>\n      <td>0.0</td>\n      <td>0.0</td>\n      <td>NaN</td>\n      <td>NaN</td>\n      <td>NaN</td>\n    </tr>\n    <tr>\n      <th>专项储备(万元)</th>\n      <td>0.0</td>\n      <td>0.0</td>\n      <td>0.0</td>\n      <td>0.0</td>\n      <td>0.0</td>\n      <td>0.0</td>\n      <td>0.0</td>\n      <td>0.0</td>\n      <td>0.0</td>\n      <td>0.0</td>\n      <td>...</td>\n      <td>0.0</td>\n      <td>0.0</td>\n      <td>0.0</td>\n      <td>0.0</td>\n      <td>0.0</td>\n      <td>0.0</td>\n      <td>0.0</td>\n      <td>NaN</td>\n      <td>NaN</td>\n      <td>NaN</td>\n    </tr>\n    <tr>\n      <th>专项应付款(万元)</th>\n      <td>0.0</td>\n      <td>0.0</td>\n      <td>0.0</td>\n      <td>0.0</td>\n      <td>0.0</td>\n      <td>1557.0</td>\n      <td>1557.0</td>\n      <td>1557.0</td>\n      <td>1557.0</td>\n      <td>1557.0</td>\n      <td>...</td>\n      <td>0.0</td>\n      <td>0.0</td>\n      <td>0.0</td>\n      <td>0.0</td>\n      <td>0.0</td>\n      <td>0.0</td>\n      <td>0.0</td>\n      <td>NaN</td>\n      <td>NaN</td>\n      <td>NaN</td>\n    </tr>\n  </tbody>\n</table>\n<p>5 rows × 55 columns</p>\n</div>"
     },
     "metadata": {},
     "output_type": "execute_result",
     "execution_count": 5
    }
   ],
   "source": [
    "from greenseer.dataset.china_dataset import  load_by_stock_Id\n",
    "from logging.config import fileConfig\n",
    "fileConfig('logging_config.ini')\n",
    "reports = load_by_stock_Id(\"600519\")\n",
    "reports.head(5)"
   ]
  }
 ],
 "metadata": {
  "kernelspec": {
   "display_name": "Python 3",
   "language": "python",
   "name": "python3"
  },
  "language_info": {
   "codemirror_mode": {
    "name": "ipython",
    "version": 3
   },
   "file_extension": ".py",
   "mimetype": "text/x-python",
   "name": "python",
   "nbconvert_exporter": "python",
   "pygments_lexer": "ipython3",
   "version": "3.5.2"
  },
  "pycharm": {
   "stem_cell": {
    "cell_type": "raw",
    "source": [
     "# if you running at azure nootbook to prepare env\n",
     "#!pip install lxml --ignore-installed lxml\n",
     "#!pip install tushare==1.2.54 \n"
    ],
    "metadata": {
     "collapsed": false
    }
   }
  }
 },
 "nbformat": 4,
 "nbformat_minor": 2
}