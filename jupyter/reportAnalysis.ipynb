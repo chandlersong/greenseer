{
 "cells": [
  {
   "cell_type": "code",
   "execution_count": 1,
   "outputs": [],
   "source": [
    "%load_ext autoreload\n",
    "%autoreload 2"
   ],
   "metadata": {
    "collapsed": false,
    "pycharm": {
     "name": "#%%\n",
     "is_executing": false
    }
   }
  },
  {
   "cell_type": "code",
   "execution_count": 2,
   "metadata": {
    "pycharm": {
     "is_executing": false
    }
   },
   "outputs": [],
   "source": [
    "from greenseer.configuration import do_global_configuration,get_global_configuration\n",
    "do_global_configuration(\"config.properties\")"
   ]
  },
  {
   "cell_type": "code",
   "execution_count": 6,
   "metadata": {
    "pycharm": {
     "is_executing": false
    }
   },
   "outputs": [
    {
     "data": {
      "text/plain": "报告日期        一年内到期的非流动负债(万元)  一年内到期的非流动资产(万元)  一般风险准备(万元)  专项储备(万元)  专项应付款(万元)  \\\n2019-09-30              0.0              0.0     78830.0       0.0        0.0   \n2019-06-30              0.0              0.0     78830.0       0.0        0.0   \n2019-03-31              0.0              0.0     78830.0       0.0        0.0   \n2018-12-31              0.0              0.0     78830.0       0.0        0.0   \n2018-09-30              0.0              0.0     60086.0       0.0        0.0   \n\n报告日期        买入返售金融资产(万元)  交易性金融负债(万元)  交易性金融资产(万元)  代理买卖证券款(万元)  代理承销证券款(万元)  \\\n2019-09-30           0.0          0.0          0.0          0.0          0.0   \n2019-06-30           0.0          0.0          0.0          0.0          0.0   \n2019-03-31           0.0          0.0       2900.0          0.0          0.0   \n2018-12-31           0.0          0.0          0.0          0.0          0.0   \n2018-09-30           0.0          0.0          0.0          0.0          0.0   \n\n报告日期        ...  长期待摊费用(万元)  长期股权投资(万元)  长期递延收益(万元)  非流动负债合计(万元)  非流动资产合计(万元)  \\\n2019-09-30  ...     16104.0         0.0         0.0       4895.0    2260126.0   \n2019-06-30  ...     16325.0         0.0         0.0       7767.0    2257570.0   \n2019-03-31  ...     16583.0         0.0         0.0          0.0    2201418.0   \n2018-12-31  ...     16841.0         0.0         0.0          0.0    2198484.0   \n2018-09-30  ...     17027.0         0.0         0.0       1557.0    2231677.0   \n\n报告日期        预付款项(万元)  预提费用(万元)   预收账款(万元)  预计流动负债(万元)  预计非流动负债(万元)  \n2019-09-30  206053.0       0.0  1125530.0         0.0          0.0  \n2019-06-30  141968.0       0.0  1225690.0         0.0          0.0  \n2019-03-31  114122.0       0.0  1138457.0         0.0          0.0  \n2018-12-31  118238.0       0.0  1357652.0         0.0          0.0  \n2018-09-30  112108.0       0.0  1116753.0         0.0          0.0  \n\n[5 rows x 108 columns]",
      "text/html": "<div>\n<style scoped>\n    .dataframe tbody tr th:only-of-type {\n        vertical-align: middle;\n    }\n\n    .dataframe tbody tr th {\n        vertical-align: top;\n    }\n\n    .dataframe thead th {\n        text-align: right;\n    }\n</style>\n<table border=\"1\" class=\"dataframe\">\n  <thead>\n    <tr style=\"text-align: right;\">\n      <th>报告日期</th>\n      <th>一年内到期的非流动负债(万元)</th>\n      <th>一年内到期的非流动资产(万元)</th>\n      <th>一般风险准备(万元)</th>\n      <th>专项储备(万元)</th>\n      <th>专项应付款(万元)</th>\n      <th>买入返售金融资产(万元)</th>\n      <th>交易性金融负债(万元)</th>\n      <th>交易性金融资产(万元)</th>\n      <th>代理买卖证券款(万元)</th>\n      <th>代理承销证券款(万元)</th>\n      <th>...</th>\n      <th>长期待摊费用(万元)</th>\n      <th>长期股权投资(万元)</th>\n      <th>长期递延收益(万元)</th>\n      <th>非流动负债合计(万元)</th>\n      <th>非流动资产合计(万元)</th>\n      <th>预付款项(万元)</th>\n      <th>预提费用(万元)</th>\n      <th>预收账款(万元)</th>\n      <th>预计流动负债(万元)</th>\n      <th>预计非流动负债(万元)</th>\n    </tr>\n  </thead>\n  <tbody>\n    <tr>\n      <th>2019-09-30</th>\n      <td>0.0</td>\n      <td>0.0</td>\n      <td>78830.0</td>\n      <td>0.0</td>\n      <td>0.0</td>\n      <td>0.0</td>\n      <td>0.0</td>\n      <td>0.0</td>\n      <td>0.0</td>\n      <td>0.0</td>\n      <td>...</td>\n      <td>16104.0</td>\n      <td>0.0</td>\n      <td>0.0</td>\n      <td>4895.0</td>\n      <td>2260126.0</td>\n      <td>206053.0</td>\n      <td>0.0</td>\n      <td>1125530.0</td>\n      <td>0.0</td>\n      <td>0.0</td>\n    </tr>\n    <tr>\n      <th>2019-06-30</th>\n      <td>0.0</td>\n      <td>0.0</td>\n      <td>78830.0</td>\n      <td>0.0</td>\n      <td>0.0</td>\n      <td>0.0</td>\n      <td>0.0</td>\n      <td>0.0</td>\n      <td>0.0</td>\n      <td>0.0</td>\n      <td>...</td>\n      <td>16325.0</td>\n      <td>0.0</td>\n      <td>0.0</td>\n      <td>7767.0</td>\n      <td>2257570.0</td>\n      <td>141968.0</td>\n      <td>0.0</td>\n      <td>1225690.0</td>\n      <td>0.0</td>\n      <td>0.0</td>\n    </tr>\n    <tr>\n      <th>2019-03-31</th>\n      <td>0.0</td>\n      <td>0.0</td>\n      <td>78830.0</td>\n      <td>0.0</td>\n      <td>0.0</td>\n      <td>0.0</td>\n      <td>0.0</td>\n      <td>2900.0</td>\n      <td>0.0</td>\n      <td>0.0</td>\n      <td>...</td>\n      <td>16583.0</td>\n      <td>0.0</td>\n      <td>0.0</td>\n      <td>0.0</td>\n      <td>2201418.0</td>\n      <td>114122.0</td>\n      <td>0.0</td>\n      <td>1138457.0</td>\n      <td>0.0</td>\n      <td>0.0</td>\n    </tr>\n    <tr>\n      <th>2018-12-31</th>\n      <td>0.0</td>\n      <td>0.0</td>\n      <td>78830.0</td>\n      <td>0.0</td>\n      <td>0.0</td>\n      <td>0.0</td>\n      <td>0.0</td>\n      <td>0.0</td>\n      <td>0.0</td>\n      <td>0.0</td>\n      <td>...</td>\n      <td>16841.0</td>\n      <td>0.0</td>\n      <td>0.0</td>\n      <td>0.0</td>\n      <td>2198484.0</td>\n      <td>118238.0</td>\n      <td>0.0</td>\n      <td>1357652.0</td>\n      <td>0.0</td>\n      <td>0.0</td>\n    </tr>\n    <tr>\n      <th>2018-09-30</th>\n      <td>0.0</td>\n      <td>0.0</td>\n      <td>60086.0</td>\n      <td>0.0</td>\n      <td>0.0</td>\n      <td>0.0</td>\n      <td>0.0</td>\n      <td>0.0</td>\n      <td>0.0</td>\n      <td>0.0</td>\n      <td>...</td>\n      <td>17027.0</td>\n      <td>0.0</td>\n      <td>0.0</td>\n      <td>1557.0</td>\n      <td>2231677.0</td>\n      <td>112108.0</td>\n      <td>0.0</td>\n      <td>1116753.0</td>\n      <td>0.0</td>\n      <td>0.0</td>\n    </tr>\n  </tbody>\n</table>\n<p>5 rows × 108 columns</p>\n</div>"
     },
     "metadata": {},
     "output_type": "execute_result",
     "execution_count": 6
    }
   ],
   "source": [
    "from greenseer.repository.china_stock import  create_china_stock_assert_repository\n",
    "from logging.config import fileConfig\n",
    "fileConfig('logging_config.ini')\n",
    "china_daily_repository =  create_china_stock_assert_repository()\n",
    "data = china_daily_repository.load_data(\"600519\")\n",
    "data.head(5)"
   ]
  }
 ],
 "metadata": {
  "kernelspec": {
   "display_name": "Python 3",
   "language": "python",
   "name": "python3"
  },
  "language_info": {
   "codemirror_mode": {
    "name": "ipython",
    "version": 3
   },
   "file_extension": ".py",
   "mimetype": "text/x-python",
   "name": "python",
   "nbconvert_exporter": "python",
   "pygments_lexer": "ipython3",
   "version": "3.5.2"
  },
  "pycharm": {
   "stem_cell": {
    "cell_type": "raw",
    "source": [
     "# if you running at azure nootbook to prepare env\n",
     "#!pip install lxml --ignore-installed lxml\n",
     "#!pip install tushare==1.2.54 \n"
    ],
    "metadata": {
     "collapsed": false
    }
   }
  }
 },
 "nbformat": 4,
 "nbformat_minor": 2
}