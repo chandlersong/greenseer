{
 "cells": [
  {
   "cell_type": "markdown",
   "metadata": {
    "pycharm": {
     "name": "#%% md\n"
    }
   },
   "source": [
    "``` python\n",
    "# if you running at azure nootbook to prepare env\n",
    "#!pip install lxml --ignore-installed lxml\n",
    "#!pip install tushare==1.2.54 \n",
    "```"
   ]
  },
  {
   "cell_type": "code",
   "execution_count": 42,
   "metadata": {
    "pycharm": {
     "name": "#%%\n"
    }
   },
   "outputs": [
    {
     "name": "stdout",
     "output_type": "stream",
     "text": [
      "The autoreload extension is already loaded. To reload it, use:\n",
      "  %reload_ext autoreload\n"
     ]
    }
   ],
   "source": [
    "%load_ext autoreload\n",
    "%autoreload 2"
   ]
  },
  {
   "cell_type": "code",
   "execution_count": 43,
   "metadata": {},
   "outputs": [],
   "source": [
    "from logging.config import fileConfig\n",
    "\n",
    "from sklearn.mixture import GaussianMixture\n",
    "from sklearn.pipeline import Pipeline\n",
    "\n",
    "from greenseer.configuration import do_global_configuration\n",
    "from greenseer.dataset.china_dataset import TRAIN_SET_ALL, fetch_train_set\n",
    "from greenseer.preprocessing.clean_data import remove_inf_and_na, RemoveAbnormalFilter\n",
    "from greenseer.preprocessing.transformers import regular_expression_column_filter, \\\n",
    "    pick_annual_report_china, append_industry_transform, re_percent_column_transform\n",
    "from greenseer.utils.tools import save_fig, save_csv\n",
    "%matplotlib inline\n",
    "\n",
    "do_global_configuration(\"config.properties\")\n",
    "fileConfig('logging_config.ini')\n",
    "\n"
   ]
  },
  {
   "cell_type": "code",
   "execution_count": 44,
   "metadata": {
    "pycharm": {
     "name": "#%%\n"
    }
   },
   "outputs": [],
   "source": [
    "import matplotlib.pyplot as plt\n",
    "import matplotlib.font_manager as mfm\n",
    "from pylab import mpl\n",
    "font_path = 'SourceHanSerifSC-ExtraLight.otf'\n",
    "prop = mfm.FontProperties(fname=font_path)\n",
    "mpl.rcParams['axes.unicode_minus'] = False\n",
    "mpl.rcParams['font.sans-serif'] = ['Source Han Serif SC'] # 指定默认字体\n",
    "mpl.rcParams['axes.unicode_minus'] = False # 解决保存图像是负号'-'显示为方块的问题\n",
    "mfm._rebuild()\n",
    "plt.rcParams['font.family'] = 'Source Han Serif SC'\n",
    "mpl.rcParams['font.sans-serif'] = ['Source Han Serif SC'] # 指定默认字体\n",
    "mpl.rcParams['axes.unicode_minus'] = False # 解决保存图像是负号'-'显示为方块的问题"
   ]
  },
  {
   "cell_type": "markdown",
   "metadata": {
    "pycharm": {
     "name": "#%% md\n"
    }
   },
   "source": [
    "- 600519：茅台"
   ]
  },
  {
   "cell_type": "code",
   "execution_count": 45,
   "metadata": {},
   "outputs": [],
   "source": [
    "# reports = fetch_multi_report(stock_ids=np.array([\"600519\",\"600520\"]))\n",
    "reports = fetch_train_set(TRAIN_SET_ALL)"
   ]
  },
  {
   "cell_type": "code",
   "execution_count": 46,
   "metadata": {
    "pycharm": {
     "name": "#%%\n"
    }
   },
   "outputs": [],
   "source": [
    "subjects = [r'\\w*应付\\w*|\\w*应收\\w*|存货|货币资金|\\w*生物\\w*|\\w*资产总计\\w*']\n",
    "final_subjects = [r'industry|payable|receivable|base']\n",
    "payable_subject = 'payable'\n",
    "receivable_subject = 'receivable'\n",
    "\n",
    "prepare_pipeline = Pipeline([\n",
    "        ('pick_annual_report', pick_annual_report_china()),\n",
    "        ('pick_subject', regular_expression_column_filter(patterns=subjects,rename={\"资产总计(万元)\":\"base\"})),\n",
    "        ('percent payable', re_percent_column_transform(numerator=[r'\\w*应付\\w*'], denominator=[r'base'],new_name=payable_subject)),\n",
    "        ('percent receivable', re_percent_column_transform(numerator=[r'\\w*应收\\w*'], denominator=[r'base'],new_name=receivable_subject)),\n",
    "        ('append industry',append_industry_transform()),\n",
    "        ('clean data',remove_inf_and_na()),\n",
    "        ('pick_final_subject', regular_expression_column_filter(patterns=final_subjects)),\n",
    "        ('remove abnormal',RemoveAbnormalFilter([payable_subject, receivable_subject]))\n",
    "\n",
    "])\n",
    "\n",
    "data = prepare_pipeline.fit_transform(reports)"
   ]
  },
  {
   "cell_type": "code",
   "execution_count": 47,
   "metadata": {
    "pycharm": {
     "name": "#%%\n"
    }
   },
   "outputs": [],
   "source": [
    "summary_by_category = data.groupby(\"industry\")\n",
    "mean= summary_by_category.mean()"
   ]
  },
  {
   "cell_type": "code",
   "execution_count": 48,
   "metadata": {
    "pycharm": {
     "name": "#%%\n"
    }
   },
   "outputs": [
    {
     "name": "stdout",
     "output_type": "stream",
     "text": [
      "Saving figure attribute_histogram_plots\n",
      "Saving scv: ./csv/test.csv\n",
      "Saving scv: ./csv/all.csv\n"
     ]
    },
    {
     "data": {
      "text/plain": "<Figure size 432x288 with 4 Axes>",
      "image/png": "[encoded data removed]"
     },
     "metadata": {
      "needs_background": "light"
     },
     "output_type": "display_data"
    }
   ],
   "source": [
    "mean.hist()\n",
    "save_fig(\"attribute_histogram_plots\")\n",
    "save_csv(data=mean,name=\"test\")\n",
    "save_csv(data=data,name=\"all\")"
   ]
  },
  {
   "cell_type": "code",
   "execution_count": 49,
   "metadata": {
    "pycharm": {
     "name": "#%%\n"
    }
   },
   "outputs": [
    {
     "name": "stdout",
     "output_type": "stream",
     "text": [
      "Saving scv: ./csv/industry_group.csv\n",
      "Saving figure industry_group\n"
     ]
    },
    {
     "data": {
      "text/plain": "<Figure size 432x288 with 1 Axes>",
      "image/png": "[encoded data removed]"
     },
     "metadata": {
      "needs_background": "light"
     },
     "output_type": "display_data"
    }
   ],
   "source": [
    "X = mean[[payable_subject,receivable_subject]].values\n",
    "\n",
    "y_pred = GaussianMixture(n_components=3, random_state=42).fit(X).predict(X)\n",
    "mean[\"group\"] = y_pred\n",
    "save_csv(data=mean,name=\"industry_group\")\n",
    "\n",
    "plt.plot(X[y_pred==0, 0], X[y_pred==0, 1], \"yo\", label=\"组1\")\n",
    "plt.plot(X[y_pred==1, 0], X[y_pred==1, 1], \"bs\", label=\"组2\")\n",
    "plt.plot(X[y_pred==2, 0], X[y_pred==2, 1], \"g^\", label=\"组3\")\n",
    "plt.xlabel(\"应付\", fontsize=14)\n",
    "plt.ylabel(\"应收\", fontsize=14)\n",
    "plt.legend(loc=\"upper left\")\n",
    "save_fig(\"industry_group\")\n",
    "plt.show()"
   ]
  },
  {
   "cell_type": "code",
   "execution_count": 49,
   "metadata": {
    "pycharm": {
     "name": "#%%\n"
    }
   },
   "outputs": [],
   "source": [
    "\n"
   ]
  }
 ],
 "metadata": {
  "kernelspec": {
   "display_name": "Python 3",
   "language": "python",
   "name": "python3"
  },
  "language_info": {
   "codemirror_mode": {
    "name": "ipython",
    "version": 3
   },
   "file_extension": ".py",
   "mimetype": "text/x-python",
   "name": "python",
   "nbconvert_exporter": "python",
   "pygments_lexer": "ipython3",
   "version": "3.7.6"
  }
 },
 "nbformat": 4,
 "nbformat_minor": 2
}