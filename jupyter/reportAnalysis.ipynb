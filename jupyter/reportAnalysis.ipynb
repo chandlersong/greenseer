{
 "cells": [
  {
   "cell_type": "markdown",
   "source": [
    "``` python\n",
    "# if you running at azure nootbook to prepare env\n",
    "#!pip install lxml --ignore-installed lxml\n",
    "#!pip install tushare==1.2.54 \n",
    "```"
   ],
   "metadata": {
    "collapsed": false,
    "pycharm": {
     "name": "#%% md\n"
    }
   }
  },
  {
   "cell_type": "code",
   "execution_count": 1,
   "outputs": [],
   "source": [
    "%load_ext autoreload\n",
    "%autoreload 2"
   ],
   "metadata": {
    "collapsed": false,
    "pycharm": {
     "name": "#%%\n"
    }
   }
  },
  {
   "cell_type": "code",
   "execution_count": 2,
   "metadata": {},
   "outputs": [],
   "source": [
    "from greenseer.configuration import do_global_configuration\n",
    "do_global_configuration(\"config.properties\")"
   ]
  },
  {
   "cell_type": "code",
   "execution_count": 3,
   "outputs": [
    {
     "data": {
      "text/plain": "        st\ncode      \n300829   0\n601609   0\n688019   0\n688126   0\n688278   0",
      "text/html": "<div>\n<style scoped>\n    .dataframe tbody tr th:only-of-type {\n        vertical-align: middle;\n    }\n\n    .dataframe tbody tr th {\n        vertical-align: top;\n    }\n\n    .dataframe thead th {\n        text-align: right;\n    }\n</style>\n<table border=\"1\" class=\"dataframe\">\n  <thead>\n    <tr style=\"text-align: right;\">\n      <th></th>\n      <th>st</th>\n    </tr>\n    <tr>\n      <th>code</th>\n      <th></th>\n    </tr>\n  </thead>\n  <tbody>\n    <tr>\n      <th>300829</th>\n      <td>0</td>\n    </tr>\n    <tr>\n      <th>601609</th>\n      <td>0</td>\n    </tr>\n    <tr>\n      <th>688019</th>\n      <td>0</td>\n    </tr>\n    <tr>\n      <th>688126</th>\n      <td>0</td>\n    </tr>\n    <tr>\n      <th>688278</th>\n      <td>0</td>\n    </tr>\n  </tbody>\n</table>\n</div>"
     },
     "execution_count": 3,
     "metadata": {},
     "output_type": "execute_result"
    }
   ],
   "source": [
    "from greenseer.dataset.china_dataset import fetch_default_targets\n",
    "\n",
    "y = fetch_default_targets()\n",
    "y.head(5)"
   ],
   "metadata": {
    "collapsed": false,
    "pycharm": {
     "name": "#%%\n"
    }
   }
  },
  {
   "cell_type": "markdown",
   "source": [
    "- 600519：茅台"
   ],
   "metadata": {
    "collapsed": false,
    "pycharm": {
     "name": "#%% md\n"
    }
   }
  },
  {
   "cell_type": "code",
   "execution_count": 4,
   "metadata": {},
   "outputs": [
    {
     "data": {
      "text/plain": "(110, 242)"
     },
     "execution_count": 4,
     "metadata": {},
     "output_type": "execute_result"
    }
   ],
   "source": [
    "from greenseer.dataset.china_dataset import fetch_multi_report, fetch_train_set\n",
    "from logging.config import fileConfig\n",
    "import numpy as np\n",
    "fileConfig('logging_config.ini')\n",
    "reports = fetch_multi_report(stock_ids=np.array([\"600519\",\"600520\"]))\n",
    "reports.shape"
   ]
  },
  {
   "cell_type": "code",
   "execution_count": 6,
   "outputs": [
    {
     "data": {
      "text/plain": "((347, 242), (64, 242))"
     },
     "execution_count": 6,
     "metadata": {},
     "output_type": "execute_result"
    }
   ],
   "source": [
    "train_set,test_set = fetch_train_set()\n",
    "train_set.shape,test_set.shape"
   ],
   "metadata": {
    "collapsed": false,
    "pycharm": {
     "name": "#%%\n"
    }
   }
  },
  {
   "cell_type": "code",
   "execution_count": 7,
   "outputs": [
    {
     "data": {
      "text/plain": "Index(['货币资金(万元)', '结算备付金(万元)', '拆出资金(万元)', '交易性金融资产(万元)', '衍生金融资产(万元)',\n       '应收票据(万元)', '应收账款(万元)', '预付款项(万元)', '应收保费(万元)', '应收分保账款(万元)',\n       ...\n       ' 其他(万元)', ' 经营活动产生现金流量净额(万元)', ' 债务转为资本(万元)', ' 一年内到期的可转换公司债券(万元)',\n       ' 融资租入固定资产(万元)', ' 现金的期末余额(万元)', ' 现金的期初余额(万元)', ' 现金等价物的期末余额(万元)',\n       ' 现金等价物的期初余额(万元)', ' 现金及现金等价物的净增加额(万元)'],\n      dtype='object', length=242)"
     },
     "execution_count": 7,
     "metadata": {},
     "output_type": "execute_result"
    }
   ],
   "source": [
    "train_set.columns"
   ],
   "metadata": {
    "collapsed": false,
    "pycharm": {
     "name": "#%%\n"
    }
   }
  },
  {
   "cell_type": "code",
   "execution_count": null,
   "outputs": [],
   "source": [
    "\n"
   ],
   "metadata": {
    "collapsed": false,
    "pycharm": {
     "name": "#%%\n"
    }
   }
  }
 ],
 "metadata": {
  "kernelspec": {
   "display_name": "Python 3",
   "language": "python",
   "name": "python3"
  },
  "language_info": {
   "codemirror_mode": {
    "name": "ipython",
    "version": 3
   },
   "file_extension": ".py",
   "mimetype": "text/x-python",
   "name": "python",
   "nbconvert_exporter": "python",
   "pygments_lexer": "ipython3",
   "version": "3.5.2"
  }
 },
 "nbformat": 4,
 "nbformat_minor": 2
}