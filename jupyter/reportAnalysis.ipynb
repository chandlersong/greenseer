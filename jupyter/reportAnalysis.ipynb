{
 "cells": [
  {
   "cell_type": "markdown",
   "source": [
    "``` python\n",
    "# if you running at azure nootbook to prepare env\n",
    "#!pip install lxml --ignore-installed lxml\n",
    "#!pip install tushare==1.2.54 \n",
    "```"
   ],
   "metadata": {
    "collapsed": false,
    "pycharm": {
     "name": "#%% md\n"
    }
   }
  },
  {
   "cell_type": "code",
   "execution_count": 70,
   "outputs": [
    {
     "name": "stdout",
     "output_type": "stream",
     "text": [
      "The autoreload extension is already loaded. To reload it, use:\n",
      "  %reload_ext autoreload\n"
     ]
    }
   ],
   "source": [
    "%load_ext autoreload\n",
    "%autoreload 2"
   ],
   "metadata": {
    "collapsed": false,
    "pycharm": {
     "name": "#%%\n"
    }
   }
  },
  {
   "cell_type": "code",
   "execution_count": 71,
   "metadata": {},
   "outputs": [],
   "source": [
    "from greenseer.configuration import do_global_configuration\n",
    "from greenseer.dataset.china_dataset import fetch_default_targets, stock_info, TRAIN_SET_ALL, fetch_train_set\n",
    "from greenseer.dataset.china_dataset import fetch_multi_report\n",
    "from logging.config import fileConfig\n",
    "import numpy as np\n",
    "from sklearn.pipeline import Pipeline\n",
    "from greenseer.preprocessing.transformers import regular_expression_column_filter, \\\n",
    "    pick_annual_report_china, append_industry_transform, re_sum_column_transform, re_percent_column_transform, \\\n",
    "    remove_inf_and_na\n",
    "%matplotlib inline\n",
    "import matplotlib.pyplot as plt\n",
    "do_global_configuration(\"config.properties\")\n",
    "fileConfig('logging_config.ini')"
   ]
  },
  {
   "cell_type": "markdown",
   "source": [
    "- 600519：茅台"
   ],
   "metadata": {
    "collapsed": false,
    "pycharm": {
     "name": "#%% md\n"
    }
   }
  },
  {
   "cell_type": "code",
   "execution_count": 72,
   "metadata": {},
   "outputs": [],
   "source": [
    "# reports = fetch_multi_report(stock_ids=np.array([\"600519\",\"600520\"]))\n",
    "reports = fetch_train_set(TRAIN_SET_ALL)"
   ]
  },
  {
   "cell_type": "code",
   "execution_count": 73,
   "outputs": [],
   "source": [
    "subjects = [r'\\w*应付\\w*|\\w*应收\\w*|存货|货币资金|\\w*生物\\w*|\\w*资产总计\\w*']\n",
    "\n",
    "\n",
    "prepare_pipeline = Pipeline([\n",
    "        ('pick_annual_report', pick_annual_report_china()),\n",
    "        ('pick_subject', regular_expression_column_filter(patterns=subjects,rename={\"资产总计(万元)\":\"base\"})),\n",
    "        ('percent payable', re_percent_column_transform(numerator=[r'\\w*应付\\w*'], denominator=[r'base'],new_name='payable')),\n",
    "        ('percent receivable', re_percent_column_transform(numerator=[r'\\w*应收\\w*'], denominator=[r'base'],new_name='receivable')),\n",
    "        ('append industry',append_industry_transform()),\n",
    "        ('clean data',remove_inf_and_na())\n",
    "])\n",
    "\n",
    "data = prepare_pipeline.fit_transform(reports)"
   ],
   "metadata": {
    "collapsed": false,
    "pycharm": {
     "name": "#%%\n"
    }
   }
  },
  {
   "cell_type": "code",
   "execution_count": 74,
   "outputs": [],
   "source": [
    "summary_by_category = data[['industry','receivable','payable',\"base\"]].groupby(\"industry\")\n",
    "mean= summary_by_category.mean()"
   ],
   "metadata": {
    "collapsed": false,
    "pycharm": {
     "name": "#%%\n"
    }
   }
  },
  {
   "cell_type": "code",
   "execution_count": 75,
   "outputs": [
    {
     "data": {
      "text/plain": "array([[<matplotlib.axes._subplots.AxesSubplot object at 0x7fc172d1cf90>,\n        <matplotlib.axes._subplots.AxesSubplot object at 0x7fc17275a310>],\n       [<matplotlib.axes._subplots.AxesSubplot object at 0x7fc1b4b31410>,\n        <matplotlib.axes._subplots.AxesSubplot object at 0x7fc172ab6b10>]],\n      dtype=object)"
     },
     "execution_count": 75,
     "metadata": {},
     "output_type": "execute_result"
    },
    {
     "data": {
      "text/plain": "<Figure size 432x288 with 4 Axes>",
      "image/png": "[encoded data removed]"
     },
     "metadata": {
      "needs_background": "light"
     },
     "output_type": "display_data"
    }
   ],
   "source": [
    "mean.hist()\n",
    "\n"
   ],
   "metadata": {
    "collapsed": false,
    "pycharm": {
     "name": "#%%\n"
    }
   }
  }
 ],
 "metadata": {
  "kernelspec": {
   "display_name": "Python 3",
   "language": "python",
   "name": "python3"
  },
  "language_info": {
   "codemirror_mode": {
    "name": "ipython",
    "version": 3
   },
   "file_extension": ".py",
   "mimetype": "text/x-python",
   "name": "python",
   "nbconvert_exporter": "python",
   "pygments_lexer": "ipython3",
   "version": "3.5.2"
  }
 },
 "nbformat": 4,
 "nbformat_minor": 2
}