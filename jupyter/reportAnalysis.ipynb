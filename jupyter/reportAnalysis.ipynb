{
 "cells": [
  {
   "cell_type": "markdown",
   "source": [
    "``` python\n",
    "# if you running at azure nootbook to prepare env\n",
    "#!pip install lxml --ignore-installed lxml\n",
    "#!pip install tushare==1.2.54 \n",
    "```"
   ],
   "metadata": {
    "collapsed": false,
    "pycharm": {
     "name": "#%% md\n"
    }
   }
  },
  {
   "cell_type": "code",
   "execution_count": 1,
   "outputs": [],
   "source": [
    "%load_ext autoreload\n",
    "%autoreload 2"
   ],
   "metadata": {
    "collapsed": false,
    "pycharm": {
     "name": "#%%\n"
    }
   }
  },
  {
   "cell_type": "code",
   "execution_count": 2,
   "metadata": {},
   "outputs": [],
   "source": [
    "from greenseer.configuration import do_global_configuration\n",
    "do_global_configuration(\"config.properties\")"
   ]
  },
  {
   "cell_type": "code",
   "execution_count": 3,
   "outputs": [
    {
     "data": {
      "text/plain": "        st\ncode      \n605001   0\n688233   0\n000612   0\n300270   0\n002369   0",
      "text/html": "<div>\n<style scoped>\n    .dataframe tbody tr th:only-of-type {\n        vertical-align: middle;\n    }\n\n    .dataframe tbody tr th {\n        vertical-align: top;\n    }\n\n    .dataframe thead th {\n        text-align: right;\n    }\n</style>\n<table border=\"1\" class=\"dataframe\">\n  <thead>\n    <tr style=\"text-align: right;\">\n      <th></th>\n      <th>st</th>\n    </tr>\n    <tr>\n      <th>code</th>\n      <th></th>\n    </tr>\n  </thead>\n  <tbody>\n    <tr>\n      <th>605001</th>\n      <td>0</td>\n    </tr>\n    <tr>\n      <th>688233</th>\n      <td>0</td>\n    </tr>\n    <tr>\n      <th>000612</th>\n      <td>0</td>\n    </tr>\n    <tr>\n      <th>300270</th>\n      <td>0</td>\n    </tr>\n    <tr>\n      <th>002369</th>\n      <td>0</td>\n    </tr>\n  </tbody>\n</table>\n</div>"
     },
     "execution_count": 3,
     "metadata": {},
     "output_type": "execute_result"
    }
   ],
   "source": [
    "from greenseer.dataset.china_dataset import fetch_default_targets, fetch_train_set, fetch_targets\n",
    "\n",
    "y = fetch_default_targets()\n",
    "y.head(5)"
   ],
   "metadata": {
    "collapsed": false,
    "pycharm": {
     "name": "#%%\n"
    }
   }
  },
  {
   "cell_type": "markdown",
   "source": [
    "- 600519：茅台"
   ],
   "metadata": {
    "collapsed": false,
    "pycharm": {
     "name": "#%% md\n"
    }
   }
  },
  {
   "cell_type": "code",
   "execution_count": 4,
   "metadata": {},
   "outputs": [
    {
     "data": {
      "text/plain": "(57, 242)"
     },
     "execution_count": 4,
     "metadata": {},
     "output_type": "execute_result"
    }
   ],
   "source": [
    "from greenseer.dataset.china_dataset import fetch_multi_report\n",
    "from logging.config import fileConfig\n",
    "import numpy as np\n",
    "fileConfig('logging_config.ini')\n",
    "reports = fetch_multi_report(stock_ids=np.array([\"600519\"]))\n",
    "reports.shape"
   ]
  },
  {
   "cell_type": "code",
   "execution_count": 5,
   "outputs": [
    {
     "data": {
      "text/plain": "                   专项应付款(万元)  公益性生物资产(万元)  其他应付款(万元)  其他应收款(万元)  内部应付款(万元)  \\\n603920 2019-12-31        0.0          0.0     4862.0     2776.0        0.0   \n       2018-12-31        0.0          0.0     6389.0     1546.0        0.0   \n       2017-12-31        0.0          0.0     1318.0     1599.0        0.0   \n       2016-12-31        0.0          0.0     1065.0       57.0        0.0   \n       2015-12-31        0.0          0.0      762.0       57.0        0.0   \n\n                   内部应收款(万元)   存货(万元)  应付保证金(万元)  应付债券(万元)  应付分保账款(万元)  ...  \\\n603920 2019-12-31        0.0  23234.0        0.0       0.0         0.0  ...   \n       2018-12-31        0.0  21829.0        0.0       0.0         0.0  ...   \n       2017-12-31        0.0  20188.0        0.0       0.0         0.0  ...   \n       2016-12-31        0.0  13958.0        0.0       0.0         0.0  ...   \n       2015-12-31        0.0   9733.0        0.0       0.0         0.0  ...   \n\n                   应收分保账款(万元)  应收利息(万元)  应收票据(万元)  应收股利(万元)  应收补贴款(万元)  \\\n603920 2019-12-31         0.0       0.0     130.0       0.0        0.0   \n       2018-12-31         0.0       0.0       0.0       0.0        0.0   \n       2017-12-31         0.0       0.0       0.0       0.0        0.0   \n       2016-12-31         0.0       0.0       5.0       0.0        0.0   \n       2015-12-31         0.0       0.0       0.0       0.0        0.0   \n\n                   应收账款(万元)  生产性生物资产(万元)  货币资金(万元)  长期应付款(万元)  长期应收款(万元)  \n603920 2019-12-31   68684.0          0.0  121725.0        0.0        0.0  \n       2018-12-31   56775.0          0.0   84207.0        0.0        0.0  \n       2017-12-31   48698.0          0.0   65040.0        0.0        0.0  \n       2016-12-31   40542.0          0.0   33601.0        0.0        0.0  \n       2015-12-31   30135.0          0.0   27328.0      252.0        0.0  \n\n[5 rows x 31 columns]",
      "text/html": "<div>\n<style scoped>\n    .dataframe tbody tr th:only-of-type {\n        vertical-align: middle;\n    }\n\n    .dataframe tbody tr th {\n        vertical-align: top;\n    }\n\n    .dataframe thead th {\n        text-align: right;\n    }\n</style>\n<table border=\"1\" class=\"dataframe\">\n  <thead>\n    <tr style=\"text-align: right;\">\n      <th></th>\n      <th></th>\n      <th>专项应付款(万元)</th>\n      <th>公益性生物资产(万元)</th>\n      <th>其他应付款(万元)</th>\n      <th>其他应收款(万元)</th>\n      <th>内部应付款(万元)</th>\n      <th>内部应收款(万元)</th>\n      <th>存货(万元)</th>\n      <th>应付保证金(万元)</th>\n      <th>应付债券(万元)</th>\n      <th>应付分保账款(万元)</th>\n      <th>...</th>\n      <th>应收分保账款(万元)</th>\n      <th>应收利息(万元)</th>\n      <th>应收票据(万元)</th>\n      <th>应收股利(万元)</th>\n      <th>应收补贴款(万元)</th>\n      <th>应收账款(万元)</th>\n      <th>生产性生物资产(万元)</th>\n      <th>货币资金(万元)</th>\n      <th>长期应付款(万元)</th>\n      <th>长期应收款(万元)</th>\n    </tr>\n  </thead>\n  <tbody>\n    <tr>\n      <th rowspan=\"5\" valign=\"top\">603920</th>\n      <th>2019-12-31</th>\n      <td>0.0</td>\n      <td>0.0</td>\n      <td>4862.0</td>\n      <td>2776.0</td>\n      <td>0.0</td>\n      <td>0.0</td>\n      <td>23234.0</td>\n      <td>0.0</td>\n      <td>0.0</td>\n      <td>0.0</td>\n      <td>...</td>\n      <td>0.0</td>\n      <td>0.0</td>\n      <td>130.0</td>\n      <td>0.0</td>\n      <td>0.0</td>\n      <td>68684.0</td>\n      <td>0.0</td>\n      <td>121725.0</td>\n      <td>0.0</td>\n      <td>0.0</td>\n    </tr>\n    <tr>\n      <th>2018-12-31</th>\n      <td>0.0</td>\n      <td>0.0</td>\n      <td>6389.0</td>\n      <td>1546.0</td>\n      <td>0.0</td>\n      <td>0.0</td>\n      <td>21829.0</td>\n      <td>0.0</td>\n      <td>0.0</td>\n      <td>0.0</td>\n      <td>...</td>\n      <td>0.0</td>\n      <td>0.0</td>\n      <td>0.0</td>\n      <td>0.0</td>\n      <td>0.0</td>\n      <td>56775.0</td>\n      <td>0.0</td>\n      <td>84207.0</td>\n      <td>0.0</td>\n      <td>0.0</td>\n    </tr>\n    <tr>\n      <th>2017-12-31</th>\n      <td>0.0</td>\n      <td>0.0</td>\n      <td>1318.0</td>\n      <td>1599.0</td>\n      <td>0.0</td>\n      <td>0.0</td>\n      <td>20188.0</td>\n      <td>0.0</td>\n      <td>0.0</td>\n      <td>0.0</td>\n      <td>...</td>\n      <td>0.0</td>\n      <td>0.0</td>\n      <td>0.0</td>\n      <td>0.0</td>\n      <td>0.0</td>\n      <td>48698.0</td>\n      <td>0.0</td>\n      <td>65040.0</td>\n      <td>0.0</td>\n      <td>0.0</td>\n    </tr>\n    <tr>\n      <th>2016-12-31</th>\n      <td>0.0</td>\n      <td>0.0</td>\n      <td>1065.0</td>\n      <td>57.0</td>\n      <td>0.0</td>\n      <td>0.0</td>\n      <td>13958.0</td>\n      <td>0.0</td>\n      <td>0.0</td>\n      <td>0.0</td>\n      <td>...</td>\n      <td>0.0</td>\n      <td>0.0</td>\n      <td>5.0</td>\n      <td>0.0</td>\n      <td>0.0</td>\n      <td>40542.0</td>\n      <td>0.0</td>\n      <td>33601.0</td>\n      <td>0.0</td>\n      <td>0.0</td>\n    </tr>\n    <tr>\n      <th>2015-12-31</th>\n      <td>0.0</td>\n      <td>0.0</td>\n      <td>762.0</td>\n      <td>57.0</td>\n      <td>0.0</td>\n      <td>0.0</td>\n      <td>9733.0</td>\n      <td>0.0</td>\n      <td>0.0</td>\n      <td>0.0</td>\n      <td>...</td>\n      <td>0.0</td>\n      <td>0.0</td>\n      <td>0.0</td>\n      <td>0.0</td>\n      <td>0.0</td>\n      <td>30135.0</td>\n      <td>0.0</td>\n      <td>27328.0</td>\n      <td>252.0</td>\n      <td>0.0</td>\n    </tr>\n  </tbody>\n</table>\n<p>5 rows × 31 columns</p>\n</div>"
     },
     "execution_count": 5,
     "metadata": {},
     "output_type": "execute_result"
    }
   ],
   "source": [
    "subjects = [r'\\w*应付\\w*|\\w*应收\\w*|存货|货币资金|\\w*生物\\w*']\n",
    "\n",
    "from sklearn.pipeline import Pipeline\n",
    "from greenseer.preprocessing.transformers import  regular_expression_column_filter, \\\n",
    "    pick_annual_report_china\n",
    "\n",
    "prepare_pipeline = Pipeline([\n",
    "        ('pick_annual_report', pick_annual_report_china()),\n",
    "        ('pick_subject', regular_expression_column_filter(patterns=subjects)),\n",
    "])\n",
    "\n",
    "train, test = fetch_train_set()\n",
    "\n",
    "X_train = prepare_pipeline.fit_transform(train)\n",
    "X_train.head(5)"
   ],
   "metadata": {
    "collapsed": false,
    "pycharm": {
     "name": "#%%\n"
    }
   }
  },
  {
   "cell_type": "code",
   "execution_count": 6,
   "outputs": [],
   "source": [
    "\n",
    "target = fetch_targets(index=X_train.index,level=0)"
   ],
   "metadata": {
    "collapsed": false,
    "pycharm": {
     "name": "#%%\n"
    }
   }
  }
 ],
 "metadata": {
  "kernelspec": {
   "display_name": "Python 3",
   "language": "python",
   "name": "python3"
  },
  "language_info": {
   "codemirror_mode": {
    "name": "ipython",
    "version": 3
   },
   "file_extension": ".py",
   "mimetype": "text/x-python",
   "name": "python",
   "nbconvert_exporter": "python",
   "pygments_lexer": "ipython3",
   "version": "3.5.2"
  }
 },
 "nbformat": 4,
 "nbformat_minor": 2
}