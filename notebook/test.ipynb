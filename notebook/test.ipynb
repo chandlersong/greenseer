{
 "cells": [
  {
   "cell_type": "code",
   "execution_count": null,
   "metadata": {
    "collapsed": false
   },
   "outputs": [],
   "source": [
    "import sys\n",
    "print('================Python import mode==========================')\n",
    "print ('The command line arguments are:')\n",
    "for i in sys.argv:\n",
    "    print (i)\n",
    "print ('\\n The python path',sys.path)\n",
    "\n",
    "from sys import argv,path#导入特定的成员\n",
    "print('================python from import===================================')\n",
    "print('path:',path)\n",
    "\n",
    "from sys import *\n",
    "print('path:',path)"
   ]
  },
  {
   "cell_type": "code",
   "execution_count": null,
   "metadata": {
    "collapsed": false
   },
   "outputs": [],
   "source": [
    "from greenseer.helloWorld import hello_world\n",
    "hello_world()"
   ]
  }
 ],
 "metadata": {
  "kernelspec": {
   "display_name": "Python 3",
   "language": "python",
   "name": "python3"
  },
  "language_info": {
   "codemirror_mode": {
    "name": "ipython",
    "version": 3
   },
   "file_extension": ".py",
   "mimetype": "text/x-python",
   "name": "python",
   "nbconvert_exporter": "python",
   "pygments_lexer": "ipython3",
   "version": "3.5.2"
  }
 },
 "nbformat": 4,
 "nbformat_minor": 0
}
